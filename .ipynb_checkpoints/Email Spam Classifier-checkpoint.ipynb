{
 "cells": [
  {
   "cell_type": "code",
   "execution_count": 1,
   "id": "2417a75e",
   "metadata": {},
   "outputs": [],
   "source": [
    "import pandas as pd\n",
    "import numpy as np\n",
    "import matplotlib.pyplot as plt\n",
    "import os"
   ]
  },
  {
   "cell_type": "code",
   "execution_count": 2,
   "id": "a70617bb",
   "metadata": {},
   "outputs": [
    {
     "data": {
      "text/plain": [
       "(5572, 5)"
      ]
     },
     "execution_count": 2,
     "metadata": {},
     "output_type": "execute_result"
    }
   ],
   "source": [
    "df = pd.read_csv('spam.csv')\n",
    "df.shape"
   ]
  },
  {
   "cell_type": "code",
   "execution_count": 3,
   "id": "3702055c",
   "metadata": {},
   "outputs": [
    {
     "data": {
      "text/html": [
       "<div>\n",
       "<style scoped>\n",
       "    .dataframe tbody tr th:only-of-type {\n",
       "        vertical-align: middle;\n",
       "    }\n",
       "\n",
       "    .dataframe tbody tr th {\n",
       "        vertical-align: top;\n",
       "    }\n",
       "\n",
       "    .dataframe thead th {\n",
       "        text-align: right;\n",
       "    }\n",
       "</style>\n",
       "<table border=\"1\" class=\"dataframe\">\n",
       "  <thead>\n",
       "    <tr style=\"text-align: right;\">\n",
       "      <th></th>\n",
       "      <th>v1</th>\n",
       "      <th>v2</th>\n",
       "      <th>Unnamed: 2</th>\n",
       "      <th>Unnamed: 3</th>\n",
       "      <th>Unnamed: 4</th>\n",
       "    </tr>\n",
       "  </thead>\n",
       "  <tbody>\n",
       "    <tr>\n",
       "      <th>0</th>\n",
       "      <td>ham</td>\n",
       "      <td>Go until jurong point, crazy.. Available only ...</td>\n",
       "      <td>NaN</td>\n",
       "      <td>NaN</td>\n",
       "      <td>NaN</td>\n",
       "    </tr>\n",
       "    <tr>\n",
       "      <th>1</th>\n",
       "      <td>ham</td>\n",
       "      <td>Ok lar... Joking wif u oni...</td>\n",
       "      <td>NaN</td>\n",
       "      <td>NaN</td>\n",
       "      <td>NaN</td>\n",
       "    </tr>\n",
       "    <tr>\n",
       "      <th>2</th>\n",
       "      <td>spam</td>\n",
       "      <td>Free entry in 2 a wkly comp to win FA Cup fina...</td>\n",
       "      <td>NaN</td>\n",
       "      <td>NaN</td>\n",
       "      <td>NaN</td>\n",
       "    </tr>\n",
       "    <tr>\n",
       "      <th>3</th>\n",
       "      <td>ham</td>\n",
       "      <td>U dun say so early hor... U c already then say...</td>\n",
       "      <td>NaN</td>\n",
       "      <td>NaN</td>\n",
       "      <td>NaN</td>\n",
       "    </tr>\n",
       "    <tr>\n",
       "      <th>4</th>\n",
       "      <td>ham</td>\n",
       "      <td>Nah I don't think he goes to usf, he lives aro...</td>\n",
       "      <td>NaN</td>\n",
       "      <td>NaN</td>\n",
       "      <td>NaN</td>\n",
       "    </tr>\n",
       "  </tbody>\n",
       "</table>\n",
       "</div>"
      ],
      "text/plain": [
       "     v1                                                 v2 Unnamed: 2  \\\n",
       "0   ham  Go until jurong point, crazy.. Available only ...        NaN   \n",
       "1   ham                      Ok lar... Joking wif u oni...        NaN   \n",
       "2  spam  Free entry in 2 a wkly comp to win FA Cup fina...        NaN   \n",
       "3   ham  U dun say so early hor... U c already then say...        NaN   \n",
       "4   ham  Nah I don't think he goes to usf, he lives aro...        NaN   \n",
       "\n",
       "  Unnamed: 3 Unnamed: 4  \n",
       "0        NaN        NaN  \n",
       "1        NaN        NaN  \n",
       "2        NaN        NaN  \n",
       "3        NaN        NaN  \n",
       "4        NaN        NaN  "
      ]
     },
     "execution_count": 3,
     "metadata": {},
     "output_type": "execute_result"
    }
   ],
   "source": [
    "df.head()"
   ]
  },
  {
   "cell_type": "code",
   "execution_count": 4,
   "id": "500e364b",
   "metadata": {},
   "outputs": [],
   "source": [
    "#data Cleaning\n",
    "#EDA\n",
    "#text preprocessing\n",
    "#model building\n",
    "#evaluation\n",
    "#improvements\n",
    "#website\n",
    "#deployment"
   ]
  },
  {
   "cell_type": "markdown",
   "id": "38fec8a9",
   "metadata": {},
   "source": [
    "# 1. Data Cleaning"
   ]
  },
  {
   "cell_type": "code",
   "execution_count": 5,
   "id": "4e0c08fb",
   "metadata": {},
   "outputs": [
    {
     "name": "stdout",
     "output_type": "stream",
     "text": [
      "<class 'pandas.core.frame.DataFrame'>\n",
      "RangeIndex: 5572 entries, 0 to 5571\n",
      "Data columns (total 5 columns):\n",
      " #   Column      Non-Null Count  Dtype \n",
      "---  ------      --------------  ----- \n",
      " 0   v1          5572 non-null   object\n",
      " 1   v2          5572 non-null   object\n",
      " 2   Unnamed: 2  50 non-null     object\n",
      " 3   Unnamed: 3  12 non-null     object\n",
      " 4   Unnamed: 4  6 non-null      object\n",
      "dtypes: object(5)\n",
      "memory usage: 217.8+ KB\n"
     ]
    }
   ],
   "source": [
    "df.info()"
   ]
  },
  {
   "cell_type": "code",
   "execution_count": 6,
   "id": "f74e54ee",
   "metadata": {},
   "outputs": [
    {
     "data": {
      "text/html": [
       "<div>\n",
       "<style scoped>\n",
       "    .dataframe tbody tr th:only-of-type {\n",
       "        vertical-align: middle;\n",
       "    }\n",
       "\n",
       "    .dataframe tbody tr th {\n",
       "        vertical-align: top;\n",
       "    }\n",
       "\n",
       "    .dataframe thead th {\n",
       "        text-align: right;\n",
       "    }\n",
       "</style>\n",
       "<table border=\"1\" class=\"dataframe\">\n",
       "  <thead>\n",
       "    <tr style=\"text-align: right;\">\n",
       "      <th></th>\n",
       "      <th>Type</th>\n",
       "      <th>SMS</th>\n",
       "      <th>Unnamed: 2</th>\n",
       "      <th>Unnamed: 3</th>\n",
       "      <th>Unnamed: 4</th>\n",
       "    </tr>\n",
       "  </thead>\n",
       "  <tbody>\n",
       "    <tr>\n",
       "      <th>0</th>\n",
       "      <td>ham</td>\n",
       "      <td>Go until jurong point, crazy.. Available only ...</td>\n",
       "      <td>NaN</td>\n",
       "      <td>NaN</td>\n",
       "      <td>NaN</td>\n",
       "    </tr>\n",
       "    <tr>\n",
       "      <th>1</th>\n",
       "      <td>ham</td>\n",
       "      <td>Ok lar... Joking wif u oni...</td>\n",
       "      <td>NaN</td>\n",
       "      <td>NaN</td>\n",
       "      <td>NaN</td>\n",
       "    </tr>\n",
       "    <tr>\n",
       "      <th>2</th>\n",
       "      <td>spam</td>\n",
       "      <td>Free entry in 2 a wkly comp to win FA Cup fina...</td>\n",
       "      <td>NaN</td>\n",
       "      <td>NaN</td>\n",
       "      <td>NaN</td>\n",
       "    </tr>\n",
       "    <tr>\n",
       "      <th>3</th>\n",
       "      <td>ham</td>\n",
       "      <td>U dun say so early hor... U c already then say...</td>\n",
       "      <td>NaN</td>\n",
       "      <td>NaN</td>\n",
       "      <td>NaN</td>\n",
       "    </tr>\n",
       "    <tr>\n",
       "      <th>4</th>\n",
       "      <td>ham</td>\n",
       "      <td>Nah I don't think he goes to usf, he lives aro...</td>\n",
       "      <td>NaN</td>\n",
       "      <td>NaN</td>\n",
       "      <td>NaN</td>\n",
       "    </tr>\n",
       "    <tr>\n",
       "      <th>...</th>\n",
       "      <td>...</td>\n",
       "      <td>...</td>\n",
       "      <td>...</td>\n",
       "      <td>...</td>\n",
       "      <td>...</td>\n",
       "    </tr>\n",
       "    <tr>\n",
       "      <th>5567</th>\n",
       "      <td>spam</td>\n",
       "      <td>This is the 2nd time we have tried 2 contact u...</td>\n",
       "      <td>NaN</td>\n",
       "      <td>NaN</td>\n",
       "      <td>NaN</td>\n",
       "    </tr>\n",
       "    <tr>\n",
       "      <th>5568</th>\n",
       "      <td>ham</td>\n",
       "      <td>Will �_ b going to esplanade fr home?</td>\n",
       "      <td>NaN</td>\n",
       "      <td>NaN</td>\n",
       "      <td>NaN</td>\n",
       "    </tr>\n",
       "    <tr>\n",
       "      <th>5569</th>\n",
       "      <td>ham</td>\n",
       "      <td>Pity, * was in mood for that. So...any other s...</td>\n",
       "      <td>NaN</td>\n",
       "      <td>NaN</td>\n",
       "      <td>NaN</td>\n",
       "    </tr>\n",
       "    <tr>\n",
       "      <th>5570</th>\n",
       "      <td>ham</td>\n",
       "      <td>The guy did some bitching but I acted like i'd...</td>\n",
       "      <td>NaN</td>\n",
       "      <td>NaN</td>\n",
       "      <td>NaN</td>\n",
       "    </tr>\n",
       "    <tr>\n",
       "      <th>5571</th>\n",
       "      <td>ham</td>\n",
       "      <td>Rofl. Its true to its name</td>\n",
       "      <td>NaN</td>\n",
       "      <td>NaN</td>\n",
       "      <td>NaN</td>\n",
       "    </tr>\n",
       "  </tbody>\n",
       "</table>\n",
       "<p>5572 rows × 5 columns</p>\n",
       "</div>"
      ],
      "text/plain": [
       "      Type                                                SMS Unnamed: 2  \\\n",
       "0      ham  Go until jurong point, crazy.. Available only ...        NaN   \n",
       "1      ham                      Ok lar... Joking wif u oni...        NaN   \n",
       "2     spam  Free entry in 2 a wkly comp to win FA Cup fina...        NaN   \n",
       "3      ham  U dun say so early hor... U c already then say...        NaN   \n",
       "4      ham  Nah I don't think he goes to usf, he lives aro...        NaN   \n",
       "...    ...                                                ...        ...   \n",
       "5567  spam  This is the 2nd time we have tried 2 contact u...        NaN   \n",
       "5568   ham              Will �_ b going to esplanade fr home?        NaN   \n",
       "5569   ham  Pity, * was in mood for that. So...any other s...        NaN   \n",
       "5570   ham  The guy did some bitching but I acted like i'd...        NaN   \n",
       "5571   ham                         Rofl. Its true to its name        NaN   \n",
       "\n",
       "     Unnamed: 3 Unnamed: 4  \n",
       "0           NaN        NaN  \n",
       "1           NaN        NaN  \n",
       "2           NaN        NaN  \n",
       "3           NaN        NaN  \n",
       "4           NaN        NaN  \n",
       "...         ...        ...  \n",
       "5567        NaN        NaN  \n",
       "5568        NaN        NaN  \n",
       "5569        NaN        NaN  \n",
       "5570        NaN        NaN  \n",
       "5571        NaN        NaN  \n",
       "\n",
       "[5572 rows x 5 columns]"
      ]
     },
     "execution_count": 6,
     "metadata": {},
     "output_type": "execute_result"
    }
   ],
   "source": [
    "#Renaming the Columns\n",
    "df.rename({'v1':'Type','v2':'SMS'},axis=1,inplace=True)\n",
    "df"
   ]
  },
  {
   "cell_type": "code",
   "execution_count": 7,
   "id": "8bafe22b",
   "metadata": {},
   "outputs": [
    {
     "data": {
      "text/html": [
       "<div>\n",
       "<style scoped>\n",
       "    .dataframe tbody tr th:only-of-type {\n",
       "        vertical-align: middle;\n",
       "    }\n",
       "\n",
       "    .dataframe tbody tr th {\n",
       "        vertical-align: top;\n",
       "    }\n",
       "\n",
       "    .dataframe thead th {\n",
       "        text-align: right;\n",
       "    }\n",
       "</style>\n",
       "<table border=\"1\" class=\"dataframe\">\n",
       "  <thead>\n",
       "    <tr style=\"text-align: right;\">\n",
       "      <th></th>\n",
       "      <th>Type</th>\n",
       "      <th>SMS</th>\n",
       "    </tr>\n",
       "  </thead>\n",
       "  <tbody>\n",
       "    <tr>\n",
       "      <th>509</th>\n",
       "      <td>ham</td>\n",
       "      <td>Your opinion about me? 1. Over 2. Jada 3. Kusr...</td>\n",
       "    </tr>\n",
       "    <tr>\n",
       "      <th>1335</th>\n",
       "      <td>ham</td>\n",
       "      <td>Sometimes we put walls around our hearts,not j...</td>\n",
       "    </tr>\n",
       "    <tr>\n",
       "      <th>4255</th>\n",
       "      <td>ham</td>\n",
       "      <td>Aah! A cuddle would be lush! I'd need lots of ...</td>\n",
       "    </tr>\n",
       "    <tr>\n",
       "      <th>2081</th>\n",
       "      <td>ham</td>\n",
       "      <td>I'm aight. Wat's happening on your side.</td>\n",
       "    </tr>\n",
       "    <tr>\n",
       "      <th>701</th>\n",
       "      <td>ham</td>\n",
       "      <td>Sorry, I'll call later</td>\n",
       "    </tr>\n",
       "  </tbody>\n",
       "</table>\n",
       "</div>"
      ],
      "text/plain": [
       "     Type                                                SMS\n",
       "509   ham  Your opinion about me? 1. Over 2. Jada 3. Kusr...\n",
       "1335  ham  Sometimes we put walls around our hearts,not j...\n",
       "4255  ham  Aah! A cuddle would be lush! I'd need lots of ...\n",
       "2081  ham           I'm aight. Wat's happening on your side.\n",
       "701   ham                             Sorry, I'll call later"
      ]
     },
     "execution_count": 7,
     "metadata": {},
     "output_type": "execute_result"
    }
   ],
   "source": [
    "## Removing the Last Three Columns\n",
    "\n",
    "final_df = df.drop(['Unnamed: 2','Unnamed: 3','Unnamed: 4'],axis=1)\n",
    "final_df.sample(5)"
   ]
  },
  {
   "cell_type": "code",
   "execution_count": 8,
   "id": "3ab071cf",
   "metadata": {},
   "outputs": [],
   "source": [
    "## Changing My Target to Labels\n",
    "from sklearn.preprocessing import LabelEncoder\n",
    "le = LabelEncoder()\n",
    "final_df['Type'] = le.fit_transform(final_df['Type'])"
   ]
  },
  {
   "cell_type": "code",
   "execution_count": 9,
   "id": "01fa2781",
   "metadata": {},
   "outputs": [
    {
     "data": {
      "text/html": [
       "<div>\n",
       "<style scoped>\n",
       "    .dataframe tbody tr th:only-of-type {\n",
       "        vertical-align: middle;\n",
       "    }\n",
       "\n",
       "    .dataframe tbody tr th {\n",
       "        vertical-align: top;\n",
       "    }\n",
       "\n",
       "    .dataframe thead th {\n",
       "        text-align: right;\n",
       "    }\n",
       "</style>\n",
       "<table border=\"1\" class=\"dataframe\">\n",
       "  <thead>\n",
       "    <tr style=\"text-align: right;\">\n",
       "      <th></th>\n",
       "      <th>Type</th>\n",
       "      <th>SMS</th>\n",
       "    </tr>\n",
       "  </thead>\n",
       "  <tbody>\n",
       "    <tr>\n",
       "      <th>3891</th>\n",
       "      <td>1</td>\n",
       "      <td>URGENT This is our 2nd attempt to contact U. Y...</td>\n",
       "    </tr>\n",
       "    <tr>\n",
       "      <th>4329</th>\n",
       "      <td>0</td>\n",
       "      <td>i thought we were doing a king of the hill thi...</td>\n",
       "    </tr>\n",
       "    <tr>\n",
       "      <th>30</th>\n",
       "      <td>0</td>\n",
       "      <td>Wait that's still not all that clear, were you...</td>\n",
       "    </tr>\n",
       "    <tr>\n",
       "      <th>1122</th>\n",
       "      <td>0</td>\n",
       "      <td>Ok.ok ok..then..whats ur todays plan</td>\n",
       "    </tr>\n",
       "    <tr>\n",
       "      <th>4094</th>\n",
       "      <td>0</td>\n",
       "      <td>I ain't answerin no phone at what is actually ...</td>\n",
       "    </tr>\n",
       "  </tbody>\n",
       "</table>\n",
       "</div>"
      ],
      "text/plain": [
       "      Type                                                SMS\n",
       "3891     1  URGENT This is our 2nd attempt to contact U. Y...\n",
       "4329     0  i thought we were doing a king of the hill thi...\n",
       "30       0  Wait that's still not all that clear, were you...\n",
       "1122     0               Ok.ok ok..then..whats ur todays plan\n",
       "4094     0  I ain't answerin no phone at what is actually ..."
      ]
     },
     "execution_count": 9,
     "metadata": {},
     "output_type": "execute_result"
    }
   ],
   "source": [
    "final_df.sample(5)"
   ]
  },
  {
   "cell_type": "code",
   "execution_count": 10,
   "id": "57de6f6d",
   "metadata": {},
   "outputs": [
    {
     "data": {
      "text/plain": [
       "Type    0\n",
       "SMS     0\n",
       "dtype: int64"
      ]
     },
     "execution_count": 10,
     "metadata": {},
     "output_type": "execute_result"
    }
   ],
   "source": [
    "## Checking Missing Values\n",
    "final_df.isnull().sum()"
   ]
  },
  {
   "cell_type": "code",
   "execution_count": 11,
   "id": "5bec0216",
   "metadata": {},
   "outputs": [
    {
     "data": {
      "text/plain": [
       "403"
      ]
     },
     "execution_count": 11,
     "metadata": {},
     "output_type": "execute_result"
    }
   ],
   "source": [
    "##Check for Duplicated Values\n",
    "final_df.duplicated().sum()"
   ]
  },
  {
   "cell_type": "code",
   "execution_count": 12,
   "id": "ed740c61",
   "metadata": {},
   "outputs": [
    {
     "data": {
      "text/html": [
       "<div>\n",
       "<style scoped>\n",
       "    .dataframe tbody tr th:only-of-type {\n",
       "        vertical-align: middle;\n",
       "    }\n",
       "\n",
       "    .dataframe tbody tr th {\n",
       "        vertical-align: top;\n",
       "    }\n",
       "\n",
       "    .dataframe thead th {\n",
       "        text-align: right;\n",
       "    }\n",
       "</style>\n",
       "<table border=\"1\" class=\"dataframe\">\n",
       "  <thead>\n",
       "    <tr style=\"text-align: right;\">\n",
       "      <th></th>\n",
       "      <th>Type</th>\n",
       "      <th>SMS</th>\n",
       "    </tr>\n",
       "  </thead>\n",
       "  <tbody>\n",
       "    <tr>\n",
       "      <th>0</th>\n",
       "      <td>0</td>\n",
       "      <td>Go until jurong point, crazy.. Available only ...</td>\n",
       "    </tr>\n",
       "    <tr>\n",
       "      <th>1</th>\n",
       "      <td>0</td>\n",
       "      <td>Ok lar... Joking wif u oni...</td>\n",
       "    </tr>\n",
       "    <tr>\n",
       "      <th>2</th>\n",
       "      <td>1</td>\n",
       "      <td>Free entry in 2 a wkly comp to win FA Cup fina...</td>\n",
       "    </tr>\n",
       "    <tr>\n",
       "      <th>3</th>\n",
       "      <td>0</td>\n",
       "      <td>U dun say so early hor... U c already then say...</td>\n",
       "    </tr>\n",
       "    <tr>\n",
       "      <th>4</th>\n",
       "      <td>0</td>\n",
       "      <td>Nah I don't think he goes to usf, he lives aro...</td>\n",
       "    </tr>\n",
       "  </tbody>\n",
       "</table>\n",
       "</div>"
      ],
      "text/plain": [
       "   Type                                                SMS\n",
       "0     0  Go until jurong point, crazy.. Available only ...\n",
       "1     0                      Ok lar... Joking wif u oni...\n",
       "2     1  Free entry in 2 a wkly comp to win FA Cup fina...\n",
       "3     0  U dun say so early hor... U c already then say...\n",
       "4     0  Nah I don't think he goes to usf, he lives aro..."
      ]
     },
     "execution_count": 12,
     "metadata": {},
     "output_type": "execute_result"
    }
   ],
   "source": [
    "##Remove Duplicates\n",
    "final_df = final_df.drop_duplicates(keep='first')\n",
    "final_df.head()"
   ]
  },
  {
   "cell_type": "code",
   "execution_count": 13,
   "id": "537f9e92",
   "metadata": {},
   "outputs": [
    {
     "data": {
      "text/plain": [
       "(5169, 2)"
      ]
     },
     "execution_count": 13,
     "metadata": {},
     "output_type": "execute_result"
    }
   ],
   "source": [
    "final_df.shape"
   ]
  },
  {
   "cell_type": "code",
   "execution_count": 14,
   "id": "75e231ed",
   "metadata": {},
   "outputs": [
    {
     "data": {
      "text/plain": [
       "0"
      ]
     },
     "execution_count": 14,
     "metadata": {},
     "output_type": "execute_result"
    }
   ],
   "source": [
    "final_df.duplicated().sum()"
   ]
  },
  {
   "cell_type": "markdown",
   "id": "36e93d5b",
   "metadata": {},
   "source": [
    "# 2. EDA"
   ]
  },
  {
   "cell_type": "code",
   "execution_count": 15,
   "id": "6ff17289",
   "metadata": {},
   "outputs": [
    {
     "data": {
      "image/png": "[encoded data removed]",
      "text/plain": [
       "<Figure size 432x288 with 1 Axes>"
      ]
     },
     "metadata": {},
     "output_type": "display_data"
    }
   ],
   "source": [
    "plt.pie(final_df['Type'].value_counts(),labels=['ham','spam'],autopct='%0.2f%%',explode=[0.1,0])\n",
    "plt.show()"
   ]
  },
  {
   "cell_type": "code",
   "execution_count": 16,
   "id": "2522fcd2",
   "metadata": {},
   "outputs": [
    {
     "name": "stderr",
     "output_type": "stream",
     "text": [
      "[nltk_data] Downloading package punkt to C:\\Users\\Shivshakti\n",
      "[nltk_data]     Media\\AppData\\Roaming\\nltk_data...\n",
      "[nltk_data]   Package punkt is already up-to-date!\n",
      "[nltk_data] Downloading package stopwords to C:\\Users\\Shivshakti\n",
      "[nltk_data]     Media\\AppData\\Roaming\\nltk_data...\n",
      "[nltk_data]   Package stopwords is already up-to-date!\n"
     ]
    },
    {
     "data": {
      "text/plain": [
       "True"
      ]
     },
     "execution_count": 16,
     "metadata": {},
     "output_type": "execute_result"
    }
   ],
   "source": [
    "# data is imbalaced\n",
    "## Now we are going to do Analysis on No. of Characters, Words, and Sentences Used in every Message\n",
    "\n",
    "import nltk\n",
    "nltk.download('punkt')\n",
    "nltk.download('stopwords')"
   ]
  },
  {
   "cell_type": "code",
   "execution_count": 17,
   "id": "403c68e4",
   "metadata": {},
   "outputs": [],
   "source": [
    "# nltk.download('punkt')"
   ]
  },
  {
   "cell_type": "code",
   "execution_count": 18,
   "id": "83ad50ed",
   "metadata": {},
   "outputs": [
    {
     "data": {
      "text/html": [
       "<div>\n",
       "<style scoped>\n",
       "    .dataframe tbody tr th:only-of-type {\n",
       "        vertical-align: middle;\n",
       "    }\n",
       "\n",
       "    .dataframe tbody tr th {\n",
       "        vertical-align: top;\n",
       "    }\n",
       "\n",
       "    .dataframe thead th {\n",
       "        text-align: right;\n",
       "    }\n",
       "</style>\n",
       "<table border=\"1\" class=\"dataframe\">\n",
       "  <thead>\n",
       "    <tr style=\"text-align: right;\">\n",
       "      <th></th>\n",
       "      <th>Type</th>\n",
       "      <th>SMS</th>\n",
       "      <th>num_characters</th>\n",
       "    </tr>\n",
       "  </thead>\n",
       "  <tbody>\n",
       "    <tr>\n",
       "      <th>0</th>\n",
       "      <td>0</td>\n",
       "      <td>Go until jurong point, crazy.. Available only ...</td>\n",
       "      <td>111</td>\n",
       "    </tr>\n",
       "    <tr>\n",
       "      <th>1</th>\n",
       "      <td>0</td>\n",
       "      <td>Ok lar... Joking wif u oni...</td>\n",
       "      <td>29</td>\n",
       "    </tr>\n",
       "    <tr>\n",
       "      <th>2</th>\n",
       "      <td>1</td>\n",
       "      <td>Free entry in 2 a wkly comp to win FA Cup fina...</td>\n",
       "      <td>155</td>\n",
       "    </tr>\n",
       "    <tr>\n",
       "      <th>3</th>\n",
       "      <td>0</td>\n",
       "      <td>U dun say so early hor... U c already then say...</td>\n",
       "      <td>49</td>\n",
       "    </tr>\n",
       "    <tr>\n",
       "      <th>4</th>\n",
       "      <td>0</td>\n",
       "      <td>Nah I don't think he goes to usf, he lives aro...</td>\n",
       "      <td>61</td>\n",
       "    </tr>\n",
       "  </tbody>\n",
       "</table>\n",
       "</div>"
      ],
      "text/plain": [
       "   Type                                                SMS  num_characters\n",
       "0     0  Go until jurong point, crazy.. Available only ...             111\n",
       "1     0                      Ok lar... Joking wif u oni...              29\n",
       "2     1  Free entry in 2 a wkly comp to win FA Cup fina...             155\n",
       "3     0  U dun say so early hor... U c already then say...              49\n",
       "4     0  Nah I don't think he goes to usf, he lives aro...              61"
      ]
     },
     "execution_count": 18,
     "metadata": {},
     "output_type": "execute_result"
    }
   ],
   "source": [
    "## Number of Characters\n",
    "final_df['num_characters'] = final_df['SMS'].apply(len) \n",
    "final_df.head()"
   ]
  },
  {
   "cell_type": "code",
   "execution_count": 19,
   "id": "349e8494",
   "metadata": {},
   "outputs": [],
   "source": [
    "# x = final_df['SMS'].apply(lambda x:x.split())\n",
    "# x[0]"
   ]
  },
  {
   "cell_type": "code",
   "execution_count": 20,
   "id": "2b5cfbd9",
   "metadata": {},
   "outputs": [
    {
     "data": {
      "text/html": [
       "<div>\n",
       "<style scoped>\n",
       "    .dataframe tbody tr th:only-of-type {\n",
       "        vertical-align: middle;\n",
       "    }\n",
       "\n",
       "    .dataframe tbody tr th {\n",
       "        vertical-align: top;\n",
       "    }\n",
       "\n",
       "    .dataframe thead th {\n",
       "        text-align: right;\n",
       "    }\n",
       "</style>\n",
       "<table border=\"1\" class=\"dataframe\">\n",
       "  <thead>\n",
       "    <tr style=\"text-align: right;\">\n",
       "      <th></th>\n",
       "      <th>Type</th>\n",
       "      <th>SMS</th>\n",
       "      <th>num_characters</th>\n",
       "      <th>num_words</th>\n",
       "    </tr>\n",
       "  </thead>\n",
       "  <tbody>\n",
       "    <tr>\n",
       "      <th>0</th>\n",
       "      <td>0</td>\n",
       "      <td>Go until jurong point, crazy.. Available only ...</td>\n",
       "      <td>111</td>\n",
       "      <td>24</td>\n",
       "    </tr>\n",
       "    <tr>\n",
       "      <th>1</th>\n",
       "      <td>0</td>\n",
       "      <td>Ok lar... Joking wif u oni...</td>\n",
       "      <td>29</td>\n",
       "      <td>8</td>\n",
       "    </tr>\n",
       "    <tr>\n",
       "      <th>2</th>\n",
       "      <td>1</td>\n",
       "      <td>Free entry in 2 a wkly comp to win FA Cup fina...</td>\n",
       "      <td>155</td>\n",
       "      <td>37</td>\n",
       "    </tr>\n",
       "    <tr>\n",
       "      <th>3</th>\n",
       "      <td>0</td>\n",
       "      <td>U dun say so early hor... U c already then say...</td>\n",
       "      <td>49</td>\n",
       "      <td>13</td>\n",
       "    </tr>\n",
       "    <tr>\n",
       "      <th>4</th>\n",
       "      <td>0</td>\n",
       "      <td>Nah I don't think he goes to usf, he lives aro...</td>\n",
       "      <td>61</td>\n",
       "      <td>15</td>\n",
       "    </tr>\n",
       "  </tbody>\n",
       "</table>\n",
       "</div>"
      ],
      "text/plain": [
       "   Type                                                SMS  num_characters  \\\n",
       "0     0  Go until jurong point, crazy.. Available only ...             111   \n",
       "1     0                      Ok lar... Joking wif u oni...              29   \n",
       "2     1  Free entry in 2 a wkly comp to win FA Cup fina...             155   \n",
       "3     0  U dun say so early hor... U c already then say...              49   \n",
       "4     0  Nah I don't think he goes to usf, he lives aro...              61   \n",
       "\n",
       "   num_words  \n",
       "0         24  \n",
       "1          8  \n",
       "2         37  \n",
       "3         13  \n",
       "4         15  "
      ]
     },
     "execution_count": 20,
     "metadata": {},
     "output_type": "execute_result"
    }
   ],
   "source": [
    "## Number of Words\n",
    "final_df['num_words'] = final_df['SMS'].apply(lambda x:len(nltk.word_tokenize(x)))\n",
    "final_df.head()"
   ]
  },
  {
   "cell_type": "code",
   "execution_count": 21,
   "id": "4f440723",
   "metadata": {},
   "outputs": [
    {
     "data": {
      "text/html": [
       "<div>\n",
       "<style scoped>\n",
       "    .dataframe tbody tr th:only-of-type {\n",
       "        vertical-align: middle;\n",
       "    }\n",
       "\n",
       "    .dataframe tbody tr th {\n",
       "        vertical-align: top;\n",
       "    }\n",
       "\n",
       "    .dataframe thead th {\n",
       "        text-align: right;\n",
       "    }\n",
       "</style>\n",
       "<table border=\"1\" class=\"dataframe\">\n",
       "  <thead>\n",
       "    <tr style=\"text-align: right;\">\n",
       "      <th></th>\n",
       "      <th>Type</th>\n",
       "      <th>SMS</th>\n",
       "      <th>num_characters</th>\n",
       "      <th>num_words</th>\n",
       "      <th>num_sentences</th>\n",
       "    </tr>\n",
       "  </thead>\n",
       "  <tbody>\n",
       "    <tr>\n",
       "      <th>0</th>\n",
       "      <td>0</td>\n",
       "      <td>Go until jurong point, crazy.. Available only ...</td>\n",
       "      <td>111</td>\n",
       "      <td>24</td>\n",
       "      <td>2</td>\n",
       "    </tr>\n",
       "    <tr>\n",
       "      <th>1</th>\n",
       "      <td>0</td>\n",
       "      <td>Ok lar... Joking wif u oni...</td>\n",
       "      <td>29</td>\n",
       "      <td>8</td>\n",
       "      <td>2</td>\n",
       "    </tr>\n",
       "    <tr>\n",
       "      <th>2</th>\n",
       "      <td>1</td>\n",
       "      <td>Free entry in 2 a wkly comp to win FA Cup fina...</td>\n",
       "      <td>155</td>\n",
       "      <td>37</td>\n",
       "      <td>2</td>\n",
       "    </tr>\n",
       "    <tr>\n",
       "      <th>3</th>\n",
       "      <td>0</td>\n",
       "      <td>U dun say so early hor... U c already then say...</td>\n",
       "      <td>49</td>\n",
       "      <td>13</td>\n",
       "      <td>1</td>\n",
       "    </tr>\n",
       "    <tr>\n",
       "      <th>4</th>\n",
       "      <td>0</td>\n",
       "      <td>Nah I don't think he goes to usf, he lives aro...</td>\n",
       "      <td>61</td>\n",
       "      <td>15</td>\n",
       "      <td>1</td>\n",
       "    </tr>\n",
       "  </tbody>\n",
       "</table>\n",
       "</div>"
      ],
      "text/plain": [
       "   Type                                                SMS  num_characters  \\\n",
       "0     0  Go until jurong point, crazy.. Available only ...             111   \n",
       "1     0                      Ok lar... Joking wif u oni...              29   \n",
       "2     1  Free entry in 2 a wkly comp to win FA Cup fina...             155   \n",
       "3     0  U dun say so early hor... U c already then say...              49   \n",
       "4     0  Nah I don't think he goes to usf, he lives aro...              61   \n",
       "\n",
       "   num_words  num_sentences  \n",
       "0         24              2  \n",
       "1          8              2  \n",
       "2         37              2  \n",
       "3         13              1  \n",
       "4         15              1  "
      ]
     },
     "execution_count": 21,
     "metadata": {},
     "output_type": "execute_result"
    }
   ],
   "source": [
    "final_df['num_sentences'] = final_df['SMS'].apply(lambda x:len(nltk.sent_tokenize(x)))\n",
    "final_df.head()"
   ]
  },
  {
   "cell_type": "code",
   "execution_count": 22,
   "id": "8ccec159",
   "metadata": {},
   "outputs": [
    {
     "data": {
      "text/html": [
       "<div>\n",
       "<style scoped>\n",
       "    .dataframe tbody tr th:only-of-type {\n",
       "        vertical-align: middle;\n",
       "    }\n",
       "\n",
       "    .dataframe tbody tr th {\n",
       "        vertical-align: top;\n",
       "    }\n",
       "\n",
       "    .dataframe thead th {\n",
       "        text-align: right;\n",
       "    }\n",
       "</style>\n",
       "<table border=\"1\" class=\"dataframe\">\n",
       "  <thead>\n",
       "    <tr style=\"text-align: right;\">\n",
       "      <th></th>\n",
       "      <th>num_characters</th>\n",
       "      <th>num_words</th>\n",
       "      <th>num_sentences</th>\n",
       "    </tr>\n",
       "  </thead>\n",
       "  <tbody>\n",
       "    <tr>\n",
       "      <th>count</th>\n",
       "      <td>4516.000000</td>\n",
       "      <td>4516.000000</td>\n",
       "      <td>4516.000000</td>\n",
       "    </tr>\n",
       "    <tr>\n",
       "      <th>mean</th>\n",
       "      <td>70.456820</td>\n",
       "      <td>17.123339</td>\n",
       "      <td>1.815545</td>\n",
       "    </tr>\n",
       "    <tr>\n",
       "      <th>std</th>\n",
       "      <td>56.356802</td>\n",
       "      <td>13.491315</td>\n",
       "      <td>1.364098</td>\n",
       "    </tr>\n",
       "    <tr>\n",
       "      <th>min</th>\n",
       "      <td>2.000000</td>\n",
       "      <td>1.000000</td>\n",
       "      <td>1.000000</td>\n",
       "    </tr>\n",
       "    <tr>\n",
       "      <th>25%</th>\n",
       "      <td>34.000000</td>\n",
       "      <td>8.000000</td>\n",
       "      <td>1.000000</td>\n",
       "    </tr>\n",
       "    <tr>\n",
       "      <th>50%</th>\n",
       "      <td>52.000000</td>\n",
       "      <td>13.000000</td>\n",
       "      <td>1.000000</td>\n",
       "    </tr>\n",
       "    <tr>\n",
       "      <th>75%</th>\n",
       "      <td>90.000000</td>\n",
       "      <td>22.000000</td>\n",
       "      <td>2.000000</td>\n",
       "    </tr>\n",
       "    <tr>\n",
       "      <th>max</th>\n",
       "      <td>910.000000</td>\n",
       "      <td>220.000000</td>\n",
       "      <td>38.000000</td>\n",
       "    </tr>\n",
       "  </tbody>\n",
       "</table>\n",
       "</div>"
      ],
      "text/plain": [
       "       num_characters    num_words  num_sentences\n",
       "count     4516.000000  4516.000000    4516.000000\n",
       "mean        70.456820    17.123339       1.815545\n",
       "std         56.356802    13.491315       1.364098\n",
       "min          2.000000     1.000000       1.000000\n",
       "25%         34.000000     8.000000       1.000000\n",
       "50%         52.000000    13.000000       1.000000\n",
       "75%         90.000000    22.000000       2.000000\n",
       "max        910.000000   220.000000      38.000000"
      ]
     },
     "execution_count": 22,
     "metadata": {},
     "output_type": "execute_result"
    }
   ],
   "source": [
    "##ham\n",
    "final_df[final_df['Type'] == 0][['num_characters','num_words','num_sentences']].describe()"
   ]
  },
  {
   "cell_type": "code",
   "execution_count": 23,
   "id": "630b59e3",
   "metadata": {},
   "outputs": [
    {
     "data": {
      "text/html": [
       "<div>\n",
       "<style scoped>\n",
       "    .dataframe tbody tr th:only-of-type {\n",
       "        vertical-align: middle;\n",
       "    }\n",
       "\n",
       "    .dataframe tbody tr th {\n",
       "        vertical-align: top;\n",
       "    }\n",
       "\n",
       "    .dataframe thead th {\n",
       "        text-align: right;\n",
       "    }\n",
       "</style>\n",
       "<table border=\"1\" class=\"dataframe\">\n",
       "  <thead>\n",
       "    <tr style=\"text-align: right;\">\n",
       "      <th></th>\n",
       "      <th>num_characters</th>\n",
       "      <th>num_words</th>\n",
       "      <th>num_sentences</th>\n",
       "    </tr>\n",
       "  </thead>\n",
       "  <tbody>\n",
       "    <tr>\n",
       "      <th>count</th>\n",
       "      <td>653.000000</td>\n",
       "      <td>653.000000</td>\n",
       "      <td>653.000000</td>\n",
       "    </tr>\n",
       "    <tr>\n",
       "      <th>mean</th>\n",
       "      <td>137.479326</td>\n",
       "      <td>27.675345</td>\n",
       "      <td>2.977029</td>\n",
       "    </tr>\n",
       "    <tr>\n",
       "      <th>std</th>\n",
       "      <td>30.014336</td>\n",
       "      <td>7.011513</td>\n",
       "      <td>1.493676</td>\n",
       "    </tr>\n",
       "    <tr>\n",
       "      <th>min</th>\n",
       "      <td>13.000000</td>\n",
       "      <td>2.000000</td>\n",
       "      <td>1.000000</td>\n",
       "    </tr>\n",
       "    <tr>\n",
       "      <th>25%</th>\n",
       "      <td>131.000000</td>\n",
       "      <td>25.000000</td>\n",
       "      <td>2.000000</td>\n",
       "    </tr>\n",
       "    <tr>\n",
       "      <th>50%</th>\n",
       "      <td>148.000000</td>\n",
       "      <td>29.000000</td>\n",
       "      <td>3.000000</td>\n",
       "    </tr>\n",
       "    <tr>\n",
       "      <th>75%</th>\n",
       "      <td>157.000000</td>\n",
       "      <td>32.000000</td>\n",
       "      <td>4.000000</td>\n",
       "    </tr>\n",
       "    <tr>\n",
       "      <th>max</th>\n",
       "      <td>223.000000</td>\n",
       "      <td>46.000000</td>\n",
       "      <td>9.000000</td>\n",
       "    </tr>\n",
       "  </tbody>\n",
       "</table>\n",
       "</div>"
      ],
      "text/plain": [
       "       num_characters   num_words  num_sentences\n",
       "count      653.000000  653.000000     653.000000\n",
       "mean       137.479326   27.675345       2.977029\n",
       "std         30.014336    7.011513       1.493676\n",
       "min         13.000000    2.000000       1.000000\n",
       "25%        131.000000   25.000000       2.000000\n",
       "50%        148.000000   29.000000       3.000000\n",
       "75%        157.000000   32.000000       4.000000\n",
       "max        223.000000   46.000000       9.000000"
      ]
     },
     "execution_count": 23,
     "metadata": {},
     "output_type": "execute_result"
    }
   ],
   "source": [
    "## spam\n",
    "final_df[final_df['Type'] == 1][['num_characters','num_words','num_sentences']].describe()"
   ]
  },
  {
   "cell_type": "code",
   "execution_count": 24,
   "id": "014d36a1",
   "metadata": {},
   "outputs": [
    {
     "data": {
      "image/png": "[encoded data removed]",
      "text/plain": [
       "<Figure size 720x576 with 1 Axes>"
      ]
     },
     "metadata": {
      "needs_background": "light"
     },
     "output_type": "display_data"
    }
   ],
   "source": [
    "import seaborn as sns\n",
    "\n",
    "plt.figure(figsize=(10,8))\n",
    "sns.histplot(final_df[final_df['Type'] == 0]['num_characters'])\n",
    "sns.histplot(final_df[final_df['Type'] == 1]['num_characters'],color='red')\n",
    "plt.show()"
   ]
  },
  {
   "cell_type": "code",
   "execution_count": 25,
   "id": "de62be03",
   "metadata": {},
   "outputs": [
    {
     "data": {
      "image/png": "[encoded data removed]",
      "text/plain": [
       "<Figure size 720x576 with 1 Axes>"
      ]
     },
     "metadata": {
      "needs_background": "light"
     },
     "output_type": "display_data"
    }
   ],
   "source": [
    "plt.figure(figsize=(10,8))\n",
    "sns.histplot(final_df[final_df['Type'] == 0]['num_words'])\n",
    "sns.histplot(final_df[final_df['Type'] == 1]['num_words'],color='red')\n",
    "plt.show()"
   ]
  },
  {
   "cell_type": "code",
   "execution_count": 26,
   "id": "d23e9767",
   "metadata": {},
   "outputs": [
    {
     "data": {
      "image/png": "[encoded data removed]",
      "text/plain": [
       "<Figure size 720x576 with 1 Axes>"
      ]
     },
     "metadata": {
      "needs_background": "light"
     },
     "output_type": "display_data"
    }
   ],
   "source": [
    "plt.figure(figsize=(10,8))\n",
    "sns.histplot(final_df[final_df['Type'] == 0]['num_sentences'])\n",
    "sns.histplot(final_df[final_df['Type'] == 1]['num_sentences'],color='red')\n",
    "plt.show()"
   ]
  },
  {
   "cell_type": "code",
   "execution_count": 27,
   "id": "243ebed5",
   "metadata": {},
   "outputs": [
    {
     "data": {
      "image/png": "[encoded data removed]",
      "text/plain": [
       "<Figure size 582.375x540 with 12 Axes>"
      ]
     },
     "metadata": {
      "needs_background": "light"
     },
     "output_type": "display_data"
    }
   ],
   "source": [
    "sns.pairplot(final_df,hue='Type')\n",
    "plt.show()"
   ]
  },
  {
   "cell_type": "code",
   "execution_count": 28,
   "id": "11b58d61",
   "metadata": {},
   "outputs": [
    {
     "data": {
      "image/png": "[encoded data removed]",
      "text/plain": [
       "<Figure size 432x288 with 2 Axes>"
      ]
     },
     "metadata": {
      "needs_background": "light"
     },
     "output_type": "display_data"
    }
   ],
   "source": [
    "sns.heatmap(final_df.corr(),annot=True)\n",
    "plt.show()"
   ]
  },
  {
   "cell_type": "code",
   "execution_count": 29,
   "id": "6514410e",
   "metadata": {},
   "outputs": [
    {
     "data": {
      "text/plain": [
       "<AxesSubplot:xlabel='Type', ylabel='num_characters'>"
      ]
     },
     "execution_count": 29,
     "metadata": {},
     "output_type": "execute_result"
    },
    {
     "data": {
      "image/png": "[encoded data removed]",
      "text/plain": [
       "<Figure size 720x576 with 1 Axes>"
      ]
     },
     "metadata": {
      "needs_background": "light"
     },
     "output_type": "display_data"
    }
   ],
   "source": [
    "plt.figure(figsize=(10,8))\n",
    "sns.boxplot(x='Type',y='num_characters',data=final_df)"
   ]
  },
  {
   "cell_type": "markdown",
   "id": "ff85a636",
   "metadata": {},
   "source": [
    "# 3. Data Preprocessing\n",
    "\n",
    "    1. Lowercase\n",
    "    2. Tokenization\n",
    "    3. Removing Special Character\n",
    "    4. Removing stop words and punctuation\n",
    "    5. stemming"
   ]
  },
  {
   "cell_type": "code",
   "execution_count": 30,
   "id": "f60d0e23",
   "metadata": {},
   "outputs": [],
   "source": [
    "from nltk.corpus import stopwords\n",
    "import string\n",
    "from nltk.stem import PorterStemmer\n",
    "\n",
    "ps = PorterStemmer()\n",
    "\n",
    "def text_processing(text):\n",
    "    text = nltk.word_tokenize(text.lower())\n",
    "    y = []\n",
    "    for i in text:\n",
    "        if i.isalnum():\n",
    "            y.append(i)\n",
    "\n",
    "    text = y[:]\n",
    "    y.clear()\n",
    "    \n",
    "    for i in text:\n",
    "        if i not in stopwords.words('english') and i not in string.punctuation:\n",
    "            stemming = ps.stem(i)\n",
    "            y.append(stemming)\n",
    "            \n",
    "    return \" \".join(y)"
   ]
  },
  {
   "cell_type": "code",
   "execution_count": 31,
   "id": "1ba4c971",
   "metadata": {},
   "outputs": [
    {
     "data": {
      "text/plain": [
       "'love yt lectur machin learn dace danc danc'"
      ]
     },
     "execution_count": 31,
     "metadata": {},
     "output_type": "execute_result"
    }
   ],
   "source": [
    "text_processing('I Loved the YT Lectures on machine Learning What About You! dacing dance danced')"
   ]
  },
  {
   "cell_type": "code",
   "execution_count": 32,
   "id": "8a48434b",
   "metadata": {},
   "outputs": [],
   "source": [
    "# def new_func(text):\n",
    "#     y = []\n",
    "#     for i in text.split():\n",
    "#         x = \"\"\n",
    "#         for j in i:\n",
    "#             if j not in string.punctuation:\n",
    "#                 x = x + j\n",
    "#         y.append(x)\n",
    "#     return \" \".join(y)\n",
    "\n",
    "# new_func('hello Hi%%tes%h How%%% ar**..e You')"
   ]
  },
  {
   "cell_type": "code",
   "execution_count": 33,
   "id": "d89a1fd6",
   "metadata": {},
   "outputs": [],
   "source": [
    "final_df['transformed_text'] = final_df['SMS'].apply(text_processing)"
   ]
  },
  {
   "cell_type": "code",
   "execution_count": 34,
   "id": "1b748a9d",
   "metadata": {},
   "outputs": [
    {
     "data": {
      "text/html": [
       "<div>\n",
       "<style scoped>\n",
       "    .dataframe tbody tr th:only-of-type {\n",
       "        vertical-align: middle;\n",
       "    }\n",
       "\n",
       "    .dataframe tbody tr th {\n",
       "        vertical-align: top;\n",
       "    }\n",
       "\n",
       "    .dataframe thead th {\n",
       "        text-align: right;\n",
       "    }\n",
       "</style>\n",
       "<table border=\"1\" class=\"dataframe\">\n",
       "  <thead>\n",
       "    <tr style=\"text-align: right;\">\n",
       "      <th></th>\n",
       "      <th>Type</th>\n",
       "      <th>SMS</th>\n",
       "      <th>num_characters</th>\n",
       "      <th>num_words</th>\n",
       "      <th>num_sentences</th>\n",
       "      <th>transformed_text</th>\n",
       "    </tr>\n",
       "  </thead>\n",
       "  <tbody>\n",
       "    <tr>\n",
       "      <th>0</th>\n",
       "      <td>0</td>\n",
       "      <td>Go until jurong point, crazy.. Available only ...</td>\n",
       "      <td>111</td>\n",
       "      <td>24</td>\n",
       "      <td>2</td>\n",
       "      <td>go jurong point crazi avail bugi n great world...</td>\n",
       "    </tr>\n",
       "    <tr>\n",
       "      <th>1</th>\n",
       "      <td>0</td>\n",
       "      <td>Ok lar... Joking wif u oni...</td>\n",
       "      <td>29</td>\n",
       "      <td>8</td>\n",
       "      <td>2</td>\n",
       "      <td>ok lar joke wif u oni</td>\n",
       "    </tr>\n",
       "    <tr>\n",
       "      <th>2</th>\n",
       "      <td>1</td>\n",
       "      <td>Free entry in 2 a wkly comp to win FA Cup fina...</td>\n",
       "      <td>155</td>\n",
       "      <td>37</td>\n",
       "      <td>2</td>\n",
       "      <td>free entri 2 wkli comp win fa cup final tkt 21...</td>\n",
       "    </tr>\n",
       "    <tr>\n",
       "      <th>3</th>\n",
       "      <td>0</td>\n",
       "      <td>U dun say so early hor... U c already then say...</td>\n",
       "      <td>49</td>\n",
       "      <td>13</td>\n",
       "      <td>1</td>\n",
       "      <td>u dun say earli hor u c alreadi say</td>\n",
       "    </tr>\n",
       "    <tr>\n",
       "      <th>4</th>\n",
       "      <td>0</td>\n",
       "      <td>Nah I don't think he goes to usf, he lives aro...</td>\n",
       "      <td>61</td>\n",
       "      <td>15</td>\n",
       "      <td>1</td>\n",
       "      <td>nah think goe usf live around though</td>\n",
       "    </tr>\n",
       "  </tbody>\n",
       "</table>\n",
       "</div>"
      ],
      "text/plain": [
       "   Type                                                SMS  num_characters  \\\n",
       "0     0  Go until jurong point, crazy.. Available only ...             111   \n",
       "1     0                      Ok lar... Joking wif u oni...              29   \n",
       "2     1  Free entry in 2 a wkly comp to win FA Cup fina...             155   \n",
       "3     0  U dun say so early hor... U c already then say...              49   \n",
       "4     0  Nah I don't think he goes to usf, he lives aro...              61   \n",
       "\n",
       "   num_words  num_sentences                                   transformed_text  \n",
       "0         24              2  go jurong point crazi avail bugi n great world...  \n",
       "1          8              2                              ok lar joke wif u oni  \n",
       "2         37              2  free entri 2 wkli comp win fa cup final tkt 21...  \n",
       "3         13              1                u dun say earli hor u c alreadi say  \n",
       "4         15              1               nah think goe usf live around though  "
      ]
     },
     "execution_count": 34,
     "metadata": {},
     "output_type": "execute_result"
    }
   ],
   "source": [
    "final_df.head()"
   ]
  },
  {
   "cell_type": "code",
   "execution_count": 35,
   "id": "0b1f28e2",
   "metadata": {},
   "outputs": [],
   "source": [
    "from wordcloud import WordCloud\n",
    "wc = WordCloud(width=500,height=500,min_font_size=10,background_color='white')"
   ]
  },
  {
   "cell_type": "code",
   "execution_count": 36,
   "id": "600c36c6",
   "metadata": {},
   "outputs": [
    {
     "data": {
      "image/png": "[encoded data removed]",
      "text/plain": [
       "<Figure size 576x360 with 1 Axes>"
      ]
     },
     "metadata": {
      "needs_background": "light"
     },
     "output_type": "display_data"
    }
   ],
   "source": [
    "## Spam Word Cloud\n",
    "spam_wc = wc.generate(final_df[final_df['Type'] == 1]['transformed_text'].str.cat(sep = \" \"))\n",
    "plt.figure(figsize=(8,5))\n",
    "plt.imshow(spam_wc)\n",
    "plt.show()"
   ]
  },
  {
   "cell_type": "code",
   "execution_count": 37,
   "id": "02cef806",
   "metadata": {},
   "outputs": [
    {
     "data": {
      "image/png": "[encoded data removed]",
      "text/plain": [
       "<Figure size 576x360 with 1 Axes>"
      ]
     },
     "metadata": {
      "needs_background": "light"
     },
     "output_type": "display_data"
    }
   ],
   "source": [
    "## Ham Word Cloud\n",
    "ham_wc = wc.generate(final_df[final_df['Type'] == 0]['transformed_text'].str.cat(sep = \" \"))\n",
    "plt.figure(figsize=(8,5))\n",
    "plt.imshow(ham_wc)\n",
    "plt.show()"
   ]
  },
  {
   "cell_type": "code",
   "execution_count": 38,
   "id": "569526d4",
   "metadata": {},
   "outputs": [
    {
     "data": {
      "text/plain": [
       "9941"
      ]
     },
     "execution_count": 38,
     "metadata": {},
     "output_type": "execute_result"
    }
   ],
   "source": [
    "## Converting Spam Messages to List of Words\n",
    "x = final_df[final_df['Type'] == 1]['transformed_text'].str.cat(sep= \" \")\n",
    "spam_msg_word_list = x.split()\n",
    "len(spam_msg_word_list)"
   ]
  },
  {
   "cell_type": "code",
   "execution_count": 39,
   "id": "ffcd6fe3",
   "metadata": {},
   "outputs": [],
   "source": [
    "## Counting Top 30 Words from spam messages\n",
    "from collections import Counter\n",
    "spam_top_30words = pd.DataFrame(Counter(spam_msg_word_list).most_common(30))"
   ]
  },
  {
   "cell_type": "code",
   "execution_count": 40,
   "id": "b287c0da",
   "metadata": {},
   "outputs": [
    {
     "name": "stderr",
     "output_type": "stream",
     "text": [
      "C:\\Users\\Shivshakti Media\\anaconda3\\lib\\site-packages\\seaborn\\_decorators.py:36: FutureWarning: Pass the following variables as keyword args: x, y. From version 0.12, the only valid positional argument will be `data`, and passing other arguments without an explicit keyword will result in an error or misinterpretation.\n",
      "  warnings.warn(\n"
     ]
    },
    {
     "data": {
      "image/png": "[encoded data removed]",
      "text/plain": [
       "<Figure size 720x576 with 1 Axes>"
      ]
     },
     "metadata": {
      "needs_background": "light"
     },
     "output_type": "display_data"
    }
   ],
   "source": [
    "## Visualising it on the Bar Plot\n",
    "plt.figure(figsize=(10,8))\n",
    "sns.barplot(spam_top_30words[0],spam_top_30words[1])\n",
    "plt.xticks(rotation='vertical')\n",
    "plt.show()"
   ]
  },
  {
   "cell_type": "code",
   "execution_count": 41,
   "id": "0da022f4",
   "metadata": {},
   "outputs": [],
   "source": [
    "## List of the Total Ham Words\n",
    "\n",
    "ham_msg_list = final_df[final_df['Type'] == 0]['transformed_text'].tolist()\n",
    "ham_msg_word_list = []\n",
    "\n",
    "for i in ham_msg_list:\n",
    "    for j in i.split():\n",
    "        ham_msg_word_list.append(j)"
   ]
  },
  {
   "cell_type": "code",
   "execution_count": 42,
   "id": "053f78c2",
   "metadata": {},
   "outputs": [
    {
     "data": {
      "text/html": [
       "<div>\n",
       "<style scoped>\n",
       "    .dataframe tbody tr th:only-of-type {\n",
       "        vertical-align: middle;\n",
       "    }\n",
       "\n",
       "    .dataframe tbody tr th {\n",
       "        vertical-align: top;\n",
       "    }\n",
       "\n",
       "    .dataframe thead th {\n",
       "        text-align: right;\n",
       "    }\n",
       "</style>\n",
       "<table border=\"1\" class=\"dataframe\">\n",
       "  <thead>\n",
       "    <tr style=\"text-align: right;\">\n",
       "      <th></th>\n",
       "      <th>0</th>\n",
       "      <th>1</th>\n",
       "    </tr>\n",
       "  </thead>\n",
       "  <tbody>\n",
       "    <tr>\n",
       "      <th>0</th>\n",
       "      <td>u</td>\n",
       "      <td>883</td>\n",
       "    </tr>\n",
       "    <tr>\n",
       "      <th>1</th>\n",
       "      <td>go</td>\n",
       "      <td>404</td>\n",
       "    </tr>\n",
       "    <tr>\n",
       "      <th>2</th>\n",
       "      <td>get</td>\n",
       "      <td>349</td>\n",
       "    </tr>\n",
       "    <tr>\n",
       "      <th>3</th>\n",
       "      <td>gt</td>\n",
       "      <td>288</td>\n",
       "    </tr>\n",
       "    <tr>\n",
       "      <th>4</th>\n",
       "      <td>lt</td>\n",
       "      <td>287</td>\n",
       "    </tr>\n",
       "  </tbody>\n",
       "</table>\n",
       "</div>"
      ],
      "text/plain": [
       "     0    1\n",
       "0    u  883\n",
       "1   go  404\n",
       "2  get  349\n",
       "3   gt  288\n",
       "4   lt  287"
      ]
     },
     "execution_count": 42,
     "metadata": {},
     "output_type": "execute_result"
    }
   ],
   "source": [
    "## Converting Most Comman 30 WOrds to DataFrame\n",
    "ham_top_30words = pd.DataFrame(Counter(ham_msg_word_list).most_common(30))\n",
    "ham_top_30words.head()"
   ]
  },
  {
   "cell_type": "code",
   "execution_count": 43,
   "id": "a94aac33",
   "metadata": {},
   "outputs": [
    {
     "name": "stderr",
     "output_type": "stream",
     "text": [
      "C:\\Users\\Shivshakti Media\\anaconda3\\lib\\site-packages\\seaborn\\_decorators.py:36: FutureWarning: Pass the following variables as keyword args: x, y. From version 0.12, the only valid positional argument will be `data`, and passing other arguments without an explicit keyword will result in an error or misinterpretation.\n",
      "  warnings.warn(\n"
     ]
    },
    {
     "data": {
      "image/png": "[encoded data removed]",
      "text/plain": [
       "<Figure size 720x576 with 1 Axes>"
      ]
     },
     "metadata": {
      "needs_background": "light"
     },
     "output_type": "display_data"
    }
   ],
   "source": [
    "## making barplot og ham words\n",
    "plt.figure(figsize=(10,8))\n",
    "sns.barplot(ham_top_30words[0],ham_top_30words[1])\n",
    "plt.xticks(rotation = 'vertical')\n",
    "plt.show()"
   ]
  },
  {
   "cell_type": "markdown",
   "id": "aa88f9ad",
   "metadata": {},
   "source": [
    "#  Model Building"
   ]
  },
  {
   "cell_type": "code",
   "execution_count": 44,
   "id": "c507d46f",
   "metadata": {},
   "outputs": [],
   "source": [
    "## First of all We have to Convert Our SMS text to Vectors Using Bag of Words Technique\n",
    "\n",
    "from sklearn.feature_extraction.text import CountVectorizer,TfidfVectorizer\n",
    "cv = CountVectorizer()\n",
    "tf = TfidfVectorizer()\n",
    "X = tf.fit_transform(final_df['transformed_text']).toarray()"
   ]
  },
  {
   "cell_type": "code",
   "execution_count": 45,
   "id": "fe5db042",
   "metadata": {},
   "outputs": [
    {
     "data": {
      "text/plain": [
       "array([[0., 0., 0., ..., 0., 0., 0.],\n",
       "       [0., 0., 0., ..., 0., 0., 0.],\n",
       "       [0., 0., 0., ..., 0., 0., 0.],\n",
       "       ...,\n",
       "       [0., 0., 0., ..., 0., 0., 0.],\n",
       "       [0., 0., 0., ..., 0., 0., 0.],\n",
       "       [0., 0., 0., ..., 0., 0., 0.]])"
      ]
     },
     "execution_count": 45,
     "metadata": {},
     "output_type": "execute_result"
    }
   ],
   "source": [
    "X"
   ]
  },
  {
   "cell_type": "code",
   "execution_count": 46,
   "id": "c483c117",
   "metadata": {},
   "outputs": [
    {
     "data": {
      "text/plain": [
       "(5169, 6677)"
      ]
     },
     "execution_count": 46,
     "metadata": {},
     "output_type": "execute_result"
    }
   ],
   "source": [
    "X.shape"
   ]
  },
  {
   "cell_type": "code",
   "execution_count": 47,
   "id": "9113d462",
   "metadata": {},
   "outputs": [
    {
     "data": {
      "text/plain": [
       "array([0, 0, 1, ..., 0, 0, 0])"
      ]
     },
     "execution_count": 47,
     "metadata": {},
     "output_type": "execute_result"
    }
   ],
   "source": [
    "y = np.array(final_df['Type'])\n",
    "y"
   ]
  },
  {
   "cell_type": "code",
   "execution_count": 48,
   "id": "f699d105",
   "metadata": {},
   "outputs": [],
   "source": [
    "from sklearn.model_selection import train_test_split\n",
    "X_train,X_test,y_train,y_test = train_test_split(X,y,random_state=48,test_size=0.30)"
   ]
  },
  {
   "cell_type": "code",
   "execution_count": 49,
   "id": "26bc91a5",
   "metadata": {},
   "outputs": [
    {
     "data": {
      "text/plain": [
       "(3618, 6677)"
      ]
     },
     "execution_count": 49,
     "metadata": {},
     "output_type": "execute_result"
    }
   ],
   "source": [
    "X_train.shape"
   ]
  },
  {
   "cell_type": "code",
   "execution_count": 50,
   "id": "0e061182",
   "metadata": {},
   "outputs": [],
   "source": [
    "from sklearn.naive_bayes import GaussianNB,BernoulliNB,MultinomialNB\n",
    "from sklearn.metrics import accuracy_score,precision_score,confusion_matrix,f1_score\n",
    "\n",
    "gnb = GaussianNB()\n",
    "bnb = BernoulliNB()\n",
    "mnb = MultinomialNB()"
   ]
  },
  {
   "cell_type": "code",
   "execution_count": 51,
   "id": "02bbc401",
   "metadata": {},
   "outputs": [],
   "source": [
    "def model_scoring(model,X_train,X_test,y_train,y_test):\n",
    "    model.fit(X_train,y_train)\n",
    "    pred = model.predict(X_test)\n",
    "    acc_score = accuracy_score(y_test,pred)\n",
    "    con_matrix = confusion_matrix(y_test,pred)\n",
    "    pre_score = precision_score(y_test,pred)\n",
    "    f1score = f1_score(y_test,pred)\n",
    "    return acc_score,con_matrix,pre_score,f1score\n",
    "    "
   ]
  },
  {
   "cell_type": "code",
   "execution_count": 52,
   "id": "ac5515f3",
   "metadata": {},
   "outputs": [
    {
     "data": {
      "text/plain": [
       "(0.8613797549967763,\n",
       " array([[1174,  182],\n",
       "        [  33,  162]], dtype=int64),\n",
       " 0.47093023255813954,\n",
       " 0.601113172541744)"
      ]
     },
     "execution_count": 52,
     "metadata": {},
     "output_type": "execute_result"
    }
   ],
   "source": [
    "model_scoring(gnb,X_train,X_test,y_train,y_test)"
   ]
  },
  {
   "cell_type": "code",
   "execution_count": 53,
   "id": "4d746f6a",
   "metadata": {},
   "outputs": [
    {
     "data": {
      "text/plain": [
       "(0.9671179883945842,\n",
       " array([[1351,    5],\n",
       "        [  46,  149]], dtype=int64),\n",
       " 0.9675324675324676,\n",
       " 0.8538681948424067)"
      ]
     },
     "execution_count": 53,
     "metadata": {},
     "output_type": "execute_result"
    }
   ],
   "source": [
    "model_scoring(bnb,X_train,X_test,y_train,y_test)"
   ]
  },
  {
   "cell_type": "code",
   "execution_count": 54,
   "id": "66a6be54",
   "metadata": {},
   "outputs": [
    {
     "data": {
      "text/plain": [
       "(0.9555125725338491,\n",
       " array([[1356,    0],\n",
       "        [  69,  126]], dtype=int64),\n",
       " 1.0,\n",
       " 0.7850467289719627)"
      ]
     },
     "execution_count": 54,
     "metadata": {},
     "output_type": "execute_result"
    }
   ],
   "source": [
    "model_scoring(mnb,X_train,X_test,y_train,y_test)"
   ]
  },
  {
   "cell_type": "code",
   "execution_count": 55,
   "id": "8e1bf29d",
   "metadata": {},
   "outputs": [],
   "source": [
    "from sklearn.model_selection import StratifiedKFold\n",
    "sss = StratifiedKFold(n_splits=8)"
   ]
  },
  {
   "cell_type": "code",
   "execution_count": 56,
   "id": "10e925ec",
   "metadata": {},
   "outputs": [
    {
     "name": "stdout",
     "output_type": "stream",
     "text": [
      "[ 573  581  582 ... 5166 5167 5168] [  0   1   2   3   4   5   6   7   8   9  10  11  12  13  14  15  16  17\n",
      "  18  19  20  21  22  23  24  25  26  27  28  29  30  31  32  33  34  35\n",
      "  36  37  38  39  40  41  42  43  44  45  46  47  48  49  50  51  52  53\n",
      "  54  55  56  57  58  59  60  61  62  63  64  65  66  67  68  69  70  71\n",
      "  72  73  74  75  76  77  78  79  80  81  82  83  84  85  86  87  88  89\n",
      "  90  91  92  93  94  95  96  97  98  99 100 101 102 103 104 105 106 107\n",
      " 108 109 110 111 112 113 114 115 116 117 118 119 120 121 122 123 124 125\n",
      " 126 127 128 129 130 131 132 133 134 135 136 137 138 139 140 141 142 143\n",
      " 144 145 146 147 148 149 150 151 152 153 154 155 156 157 158 159 160 161\n",
      " 162 163 164 165 166 167 168 169 170 171 172 173 174 175 176 177 178 179\n",
      " 180 181 182 183 184 185 186 187 188 189 190 191 192 193 194 195 196 197\n",
      " 198 199 200 201 202 203 204 205 206 207 208 209 210 211 212 213 214 215\n",
      " 216 217 218 219 220 221 222 223 224 225 226 227 228 229 230 231 232 233\n",
      " 234 235 236 237 238 239 240 241 242 243 244 245 246 247 248 249 250 251\n",
      " 252 253 254 255 256 257 258 259 260 261 262 263 264 265 266 267 268 269\n",
      " 270 271 272 273 274 275 276 277 278 279 280 281 282 283 284 285 286 287\n",
      " 288 289 290 291 292 293 294 295 296 297 298 299 300 301 302 303 304 305\n",
      " 306 307 308 309 310 311 312 313 314 315 316 317 318 319 320 321 322 323\n",
      " 324 325 326 327 328 329 330 331 332 333 334 335 336 337 338 339 340 341\n",
      " 342 343 344 345 346 347 348 349 350 351 352 353 354 355 356 357 358 359\n",
      " 360 361 362 363 364 365 366 367 368 369 370 371 372 373 374 375 376 377\n",
      " 378 379 380 381 382 383 384 385 386 387 388 389 390 391 392 393 394 395\n",
      " 396 397 398 399 400 401 402 403 404 405 406 407 408 409 410 411 412 413\n",
      " 414 415 416 417 418 419 420 421 422 423 424 425 426 427 428 429 430 431\n",
      " 432 433 434 435 436 437 438 439 440 441 442 443 444 445 446 447 448 449\n",
      " 450 451 452 453 454 455 456 457 458 459 460 461 462 463 464 465 466 467\n",
      " 468 469 470 471 472 473 474 475 476 477 478 479 480 481 482 483 484 485\n",
      " 486 487 488 489 490 491 492 493 494 495 496 497 498 499 500 501 502 503\n",
      " 504 505 506 507 508 509 510 511 512 513 514 515 516 517 518 519 520 521\n",
      " 522 523 524 525 526 527 528 529 530 531 532 533 534 535 536 537 538 539\n",
      " 540 541 542 543 544 545 546 547 548 549 550 551 552 553 554 555 556 557\n",
      " 558 559 560 561 562 563 564 565 566 567 568 569 570 571 572 574 575 576\n",
      " 577 578 579 580 584 585 586 587 589 590 591 592 593 594 595 596 598 599\n",
      " 600 602 603 604 605 606 607 608 609 610 611 612 613 614 615 616 617 618\n",
      " 621 622 623 624 626 627 628 629 630 631 632 633 634 635 636 637 639 641\n",
      " 642 643 644 645 646 647 649 650 651 652 653 654 655 656 657 658 659]\n",
      "[   0    1    2 ... 5166 5167 5168] [ 573  581  582  583  588  597  601  619  620  625  638  640  648  660\n",
      "  661  662  663  664  665  666  667  668  669  670  671  672  673  674\n",
      "  675  676  677  678  679  680  681  682  683  684  685  686  687  688\n",
      "  689  690  691  692  693  694  695  696  697  698  699  700  701  702\n",
      "  703  704  705  706  707  708  709  710  711  712  713  714  715  716\n",
      "  717  718  719  720  721  722  723  724  725  726  727  728  729  730\n",
      "  731  732  733  734  735  736  737  738  739  740  741  742  743  744\n",
      "  745  746  747  748  749  750  751  752  753  754  755  756  757  758\n",
      "  759  760  761  762  763  764  765  766  767  768  769  770  771  772\n",
      "  773  774  775  776  777  778  779  780  781  782  783  784  785  786\n",
      "  787  788  789  790  791  792  793  794  795  796  797  798  799  800\n",
      "  801  802  803  804  805  806  807  808  809  810  811  812  813  814\n",
      "  815  816  817  818  819  820  821  822  823  824  825  826  827  828\n",
      "  829  830  831  832  833  834  835  836  837  838  839  840  841  842\n",
      "  843  844  845  846  847  848  849  850  851  852  853  854  855  856\n",
      "  857  858  859  860  861  862  863  864  865  866  867  868  869  870\n",
      "  871  872  873  874  875  876  877  878  879  880  881  882  883  884\n",
      "  885  886  887  888  889  890  891  892  893  894  895  896  897  898\n",
      "  899  900  901  902  903  904  905  906  907  908  909  910  911  912\n",
      "  913  914  915  916  917  918  919  920  921  922  923  924  925  926\n",
      "  927  928  929  930  931  932  933  934  935  936  937  938  939  940\n",
      "  941  942  943  944  945  946  947  948  949  950  951  952  953  954\n",
      "  955  956  957  958  959  960  961  962  963  964  965  966  967  968\n",
      "  969  970  971  972  973  974  975  976  977  978  979  980  981  982\n",
      "  983  984  985  986  987  988  989  990  991  992  993  994  995  996\n",
      "  997  998  999 1000 1001 1002 1003 1004 1005 1006 1007 1008 1009 1010\n",
      " 1011 1012 1013 1014 1015 1016 1017 1018 1019 1020 1021 1022 1023 1024\n",
      " 1025 1026 1027 1028 1029 1030 1031 1032 1033 1034 1035 1036 1037 1038\n",
      " 1039 1040 1041 1042 1043 1044 1045 1046 1047 1048 1049 1050 1051 1052\n",
      " 1053 1054 1055 1056 1057 1058 1059 1060 1061 1062 1063 1064 1065 1066\n",
      " 1067 1068 1069 1070 1071 1072 1073 1074 1075 1076 1077 1078 1080 1081\n",
      " 1082 1083 1084 1085 1086 1087 1088 1089 1090 1091 1093 1095 1097 1098\n",
      " 1099 1101 1102 1104 1105 1106 1107 1109 1110 1111 1113 1114 1115 1117\n",
      " 1118 1119 1120 1121 1122 1124 1125 1126 1127 1128 1129 1130 1131 1132\n",
      " 1133 1134 1135 1136 1137 1138 1140 1141 1142 1143 1144 1145 1146 1147\n",
      " 1148 1149 1150 1151 1152 1153 1154 1155 1156 1157 1158 1159 1160 1162\n",
      " 1164 1165 1166 1167 1168 1169 1170 1172 1174 1175 1176 1177 1178 1179\n",
      " 1180 1181 1182 1184 1185 1186 1188 1189 1190 1191 1193 1195 1196 1197\n",
      " 1198 1199 1200 1201 1202 1203 1204 1205 1206 1207 1208 1209 1210 1211\n",
      " 1212 1213 1215 1216 1217 1218 1219 1220 1221 1222 1223 1224 1226 1227\n",
      " 1228 1229 1230 1232 1233 1234 1235 1237 1238 1239 1240 1241 1242 1243\n",
      " 1244 1245 1246 1247 1248 1249 1250 1251 1252 1253 1254 1255 1256 1257\n",
      " 1258 1259 1260 1261 1262 1263 1264 1265 1266 1267 1270 1271 1272 1273\n",
      " 1274 1275 1276 1277 1278 1280 1281 1282 1283 1284 1285 1286 1287 1289\n",
      " 1290 1291 1292 1293 1294 1295 1296 1297 1298 1299 1300 1301 1302 1303\n",
      " 1304 1305 1306 1307 1308 1309 1311 1312 1313 1314 1315 1316 1317 1318\n",
      " 1319 1320]\n",
      "[   0    1    2 ... 5166 5167 5168] [1079 1092 1094 1096 1100 1103 1108 1112 1116 1123 1139 1161 1163 1171\n",
      " 1173 1183 1187 1192 1194 1214 1225 1231 1236 1268 1269 1279 1288 1310\n",
      " 1321 1322 1323 1324 1325 1326 1327 1328 1329 1330 1331 1332 1333 1334\n",
      " 1335 1336 1337 1338 1339 1340 1341 1342 1343 1344 1345 1346 1347 1348\n",
      " 1349 1350 1351 1352 1353 1354 1355 1356 1357 1358 1359 1360 1361 1362\n",
      " 1363 1364 1365 1366 1367 1368 1369 1370 1371 1372 1373 1374 1375 1376\n",
      " 1377 1378 1379 1380 1381 1382 1383 1384 1385 1386 1387 1388 1389 1390\n",
      " 1391 1392 1393 1394 1395 1396 1397 1398 1399 1400 1401 1402 1403 1404\n",
      " 1405 1406 1407 1408 1409 1410 1411 1412 1413 1414 1415 1416 1417 1418\n",
      " 1419 1420 1421 1422 1423 1424 1425 1426 1427 1428 1429 1430 1431 1432\n",
      " 1433 1434 1435 1436 1437 1438 1439 1440 1441 1442 1443 1444 1445 1446\n",
      " 1447 1448 1449 1450 1451 1452 1453 1454 1455 1456 1457 1458 1459 1460\n",
      " 1461 1462 1463 1464 1465 1466 1467 1468 1469 1470 1471 1472 1473 1474\n",
      " 1475 1476 1477 1478 1479 1480 1481 1482 1483 1484 1485 1486 1487 1488\n",
      " 1489 1490 1491 1492 1493 1494 1495 1496 1497 1498 1499 1500 1501 1502\n",
      " 1503 1504 1505 1506 1507 1508 1509 1510 1511 1512 1513 1514 1515 1516\n",
      " 1517 1518 1519 1520 1521 1522 1523 1524 1525 1526 1527 1528 1529 1530\n",
      " 1531 1532 1533 1534 1535 1536 1537 1538 1539 1540 1541 1542 1543 1544\n",
      " 1545 1546 1547 1548 1549 1550 1551 1552 1553 1554 1555 1556 1557 1558\n",
      " 1559 1560 1561 1562 1563 1564 1565 1566 1567 1568 1569 1570 1571 1572\n",
      " 1573 1574 1575 1576 1577 1578 1579 1580 1581 1582 1583 1584 1585 1586\n",
      " 1587 1588 1589 1590 1591 1592 1593 1594 1595 1596 1597 1598 1599 1600\n",
      " 1601 1602 1603 1604 1605 1606 1607 1608 1609 1610 1611 1612 1613 1614\n",
      " 1615 1616 1617 1618 1619 1620 1621 1622 1623 1624 1625 1626 1627 1628\n",
      " 1629 1630 1631 1632 1633 1634 1635 1636 1637 1638 1639 1640 1641 1642\n",
      " 1643 1644 1645 1646 1647 1648 1649 1650 1651 1652 1653 1654 1655 1656\n",
      " 1657 1658 1659 1660 1661 1662 1663 1664 1665 1666 1667 1668 1669 1670\n",
      " 1671 1672 1673 1674 1675 1676 1677 1678 1679 1680 1681 1682 1683 1684\n",
      " 1685 1686 1687 1688 1689 1690 1691 1692 1693 1694 1695 1696 1697 1698\n",
      " 1699 1700 1701 1702 1703 1704 1705 1706 1707 1708 1709 1710 1711 1712\n",
      " 1713 1714 1715 1716 1717 1718 1719 1720 1722 1723 1724 1725 1726 1727\n",
      " 1728 1729 1730 1731 1733 1734 1735 1736 1737 1738 1739 1740 1741 1742\n",
      " 1743 1744 1745 1747 1748 1749 1750 1751 1752 1753 1754 1755 1756 1757\n",
      " 1758 1759 1760 1761 1762 1763 1764 1765 1766 1768 1769 1770 1771 1772\n",
      " 1773 1774 1775 1777 1778 1779 1780 1781 1782 1783 1784 1786 1787 1788\n",
      " 1789 1791 1792 1793 1794 1795 1796 1797 1798 1799 1800 1801 1802 1803\n",
      " 1804 1805 1806 1807 1808 1809 1810 1813 1814 1816 1817 1818 1819 1820\n",
      " 1821 1824 1825 1826 1827 1830 1831 1832 1833 1834 1835 1836 1838 1839\n",
      " 1840 1841 1842 1843 1844 1845 1846 1847 1849 1850 1851 1852 1853 1854\n",
      " 1855 1856 1857 1858 1859 1860 1861 1864 1865 1866 1867 1868 1869 1870\n",
      " 1871 1872 1874 1876 1877 1878 1879 1880 1881 1882 1883 1884 1885 1886\n",
      " 1887 1888 1889 1890 1891 1893 1895 1896 1897 1898 1899 1901 1902 1903\n",
      " 1904 1905 1906 1908 1909 1910 1911 1913 1914 1915 1916 1917 1919 1920\n",
      " 1921 1922 1923 1924 1925 1926 1928 1929 1930 1931 1932 1933 1934 1935\n",
      " 1936 1937 1939 1940 1941 1942 1943 1944 1945 1946 1948 1949 1950 1951\n",
      " 1952 1953 1954 1955 1956 1957 1958 1959 1960 1961 1962 1963 1964 1965\n",
      " 1966 1967]\n"
     ]
    },
    {
     "name": "stdout",
     "output_type": "stream",
     "text": [
      "[   0    1    2 ... 5166 5167 5168] [1721 1732 1746 1767 1776 1785 1790 1811 1812 1815 1822 1823 1828 1829\n",
      " 1837 1848 1862 1863 1873 1875 1892 1894 1900 1907 1912 1918 1927 1938\n",
      " 1947 1968 1969 1970 1971 1972 1973 1974 1975 1976 1977 1978 1979 1980\n",
      " 1981 1982 1983 1984 1985 1986 1987 1988 1989 1990 1991 1992 1993 1994\n",
      " 1995 1996 1997 1998 1999 2000 2001 2002 2003 2004 2005 2006 2007 2008\n",
      " 2009 2010 2011 2012 2013 2014 2015 2016 2017 2018 2019 2020 2021 2022\n",
      " 2023 2024 2025 2026 2027 2028 2029 2030 2031 2032 2033 2034 2035 2036\n",
      " 2037 2038 2039 2040 2041 2042 2043 2044 2045 2046 2047 2048 2049 2050\n",
      " 2051 2052 2053 2054 2055 2056 2057 2058 2059 2060 2061 2062 2063 2064\n",
      " 2065 2066 2067 2068 2069 2070 2071 2072 2073 2074 2075 2076 2077 2078\n",
      " 2079 2080 2081 2082 2083 2084 2085 2086 2087 2088 2089 2090 2091 2092\n",
      " 2093 2094 2095 2096 2097 2098 2099 2100 2101 2102 2103 2104 2105 2106\n",
      " 2107 2108 2109 2110 2111 2112 2113 2114 2115 2116 2117 2118 2119 2120\n",
      " 2121 2122 2123 2124 2125 2126 2127 2128 2129 2130 2131 2132 2133 2134\n",
      " 2135 2136 2137 2138 2139 2140 2141 2142 2143 2144 2145 2146 2147 2148\n",
      " 2149 2150 2151 2152 2153 2154 2155 2156 2157 2158 2159 2160 2161 2162\n",
      " 2163 2164 2165 2166 2167 2168 2169 2170 2171 2172 2173 2174 2175 2176\n",
      " 2177 2178 2179 2180 2181 2182 2183 2184 2185 2186 2187 2188 2189 2190\n",
      " 2191 2192 2193 2194 2195 2196 2197 2198 2199 2200 2201 2202 2203 2204\n",
      " 2205 2206 2207 2208 2209 2210 2211 2212 2213 2214 2215 2216 2217 2218\n",
      " 2219 2220 2221 2222 2223 2224 2225 2226 2227 2228 2229 2230 2231 2232\n",
      " 2233 2234 2235 2236 2237 2238 2239 2240 2241 2242 2243 2244 2245 2246\n",
      " 2247 2248 2249 2250 2251 2252 2253 2254 2255 2256 2257 2258 2259 2260\n",
      " 2261 2262 2263 2264 2265 2266 2267 2268 2269 2270 2271 2272 2273 2274\n",
      " 2275 2276 2277 2278 2279 2280 2281 2282 2283 2284 2285 2286 2287 2288\n",
      " 2289 2290 2291 2292 2293 2294 2295 2296 2297 2298 2299 2300 2301 2302\n",
      " 2303 2304 2305 2306 2307 2308 2309 2310 2311 2312 2313 2314 2315 2316\n",
      " 2317 2318 2319 2320 2321 2322 2323 2324 2325 2326 2327 2328 2329 2330\n",
      " 2331 2332 2333 2334 2335 2336 2337 2338 2339 2340 2341 2342 2343 2344\n",
      " 2345 2346 2347 2348 2349 2350 2351 2352 2353 2354 2355 2356 2357 2358\n",
      " 2359 2360 2361 2362 2363 2364 2365 2366 2367 2368 2369 2370 2371 2372\n",
      " 2373 2374 2375 2376 2377 2378 2379 2380 2381 2382 2383 2384 2385 2386\n",
      " 2387 2388 2389 2390 2391 2392 2393 2394 2395 2396 2397 2398 2399 2400\n",
      " 2401 2402 2403 2404 2405 2406 2407 2408 2410 2411 2412 2413 2414 2415\n",
      " 2417 2418 2419 2420 2421 2422 2423 2424 2425 2426 2427 2428 2429 2430\n",
      " 2431 2432 2433 2434 2435 2436 2437 2439 2440 2441 2442 2443 2444 2445\n",
      " 2447 2449 2450 2451 2452 2453 2454 2455 2456 2457 2458 2459 2460 2461\n",
      " 2464 2465 2466 2467 2468 2470 2472 2473 2474 2475 2476 2477 2479 2480\n",
      " 2481 2482 2483 2484 2485 2486 2487 2488 2489 2490 2491 2492 2493 2494\n",
      " 2495 2496 2497 2499 2500 2501 2502 2503 2504 2506 2507 2508 2509 2510\n",
      " 2512 2513 2514 2515 2516 2518 2519 2520 2521 2522 2523 2524 2525 2526\n",
      " 2528 2529 2530 2531 2532 2533 2534 2535 2536 2537 2538 2539 2540 2541\n",
      " 2542 2543 2544 2547 2548 2549 2550 2553 2554 2555 2556 2557 2558 2559\n",
      " 2560 2561 2563 2564 2565 2566 2568 2569 2570 2572 2574 2575 2576 2577\n",
      " 2578 2580 2581 2582 2583 2584 2586 2587 2589 2590 2592 2593 2594 2595\n",
      " 2596 2597 2598 2599 2600 2601 2602 2603 2604 2607 2608 2609 2610 2611\n",
      " 2612 2613]\n",
      "[   0    1    2 ... 5166 5167 5168] [2409 2416 2438 2446 2448 2462 2463 2469 2471 2478 2498 2505 2511 2517\n",
      " 2527 2545 2546 2551 2552 2562 2567 2571 2573 2579 2585 2588 2591 2605\n",
      " 2606 2614 2615 2616 2617 2618 2619 2620 2621 2622 2623 2624 2625 2626\n",
      " 2627 2628 2629 2630 2631 2632 2633 2634 2635 2636 2637 2638 2639 2640\n",
      " 2641 2642 2643 2644 2645 2646 2647 2648 2649 2650 2651 2652 2653 2654\n",
      " 2655 2656 2657 2658 2659 2660 2661 2662 2663 2664 2665 2666 2667 2668\n",
      " 2669 2670 2671 2672 2673 2674 2675 2676 2677 2678 2679 2680 2681 2682\n",
      " 2683 2684 2685 2686 2687 2688 2689 2690 2691 2692 2693 2694 2695 2696\n",
      " 2697 2698 2699 2700 2701 2702 2703 2704 2705 2706 2707 2708 2709 2710\n",
      " 2711 2712 2713 2714 2715 2716 2717 2718 2719 2720 2721 2722 2723 2724\n",
      " 2725 2726 2727 2728 2729 2730 2731 2732 2733 2734 2735 2736 2737 2738\n",
      " 2739 2740 2741 2742 2743 2744 2745 2746 2747 2748 2749 2750 2751 2752\n",
      " 2753 2754 2755 2756 2757 2758 2759 2760 2761 2762 2763 2764 2765 2766\n",
      " 2767 2768 2769 2770 2771 2772 2773 2774 2775 2776 2777 2778 2779 2780\n",
      " 2781 2782 2783 2784 2785 2786 2787 2788 2789 2790 2791 2792 2793 2794\n",
      " 2795 2796 2797 2798 2799 2800 2801 2802 2803 2804 2805 2806 2807 2808\n",
      " 2809 2810 2811 2812 2813 2814 2815 2816 2817 2818 2819 2820 2821 2822\n",
      " 2823 2824 2825 2826 2827 2828 2829 2830 2831 2832 2833 2834 2835 2836\n",
      " 2837 2838 2839 2840 2841 2842 2843 2844 2845 2846 2847 2848 2849 2850\n",
      " 2851 2852 2853 2854 2855 2856 2857 2858 2859 2860 2861 2862 2863 2864\n",
      " 2865 2866 2867 2868 2869 2870 2871 2872 2873 2874 2875 2876 2877 2878\n",
      " 2879 2880 2881 2882 2883 2884 2885 2886 2887 2888 2889 2890 2891 2892\n",
      " 2893 2894 2895 2896 2897 2898 2899 2900 2901 2902 2903 2904 2905 2906\n",
      " 2907 2908 2909 2910 2911 2912 2913 2914 2915 2916 2917 2918 2919 2920\n",
      " 2921 2922 2923 2924 2925 2926 2927 2928 2929 2930 2931 2932 2933 2934\n",
      " 2935 2936 2937 2938 2939 2940 2941 2942 2943 2944 2945 2946 2947 2948\n",
      " 2949 2950 2951 2952 2953 2954 2955 2956 2957 2958 2959 2960 2961 2962\n",
      " 2963 2964 2965 2966 2967 2968 2969 2970 2971 2972 2973 2974 2975 2976\n",
      " 2977 2978 2979 2980 2981 2982 2983 2984 2985 2986 2987 2988 2989 2990\n",
      " 2991 2992 2993 2994 2995 2996 2997 2998 2999 3000 3001 3002 3003 3004\n",
      " 3005 3006 3007 3008 3009 3010 3011 3012 3013 3014 3015 3016 3017 3018\n",
      " 3019 3020 3021 3022 3023 3024 3025 3026 3027 3028 3029 3030 3031 3032\n",
      " 3033 3034 3035 3036 3037 3038 3039 3040 3041 3042 3043 3044 3045 3046\n",
      " 3047 3048 3049 3050 3051 3052 3053 3054 3055 3056 3057 3058 3059 3060\n",
      " 3061 3062 3063 3064 3065 3066 3067 3068 3069 3070 3071 3072 3073 3074\n",
      " 3075 3076 3077 3078 3079 3080 3081 3082 3083 3084 3085 3086 3087 3088\n",
      " 3089 3090 3091 3092 3093 3094 3095 3096 3097 3098 3099 3100 3101 3102\n",
      " 3103 3104 3105 3106 3107 3108 3109 3110 3111 3112 3113 3114 3115 3116\n",
      " 3117 3118 3119 3120 3121 3122 3124 3125 3126 3127 3128 3129 3130 3131\n",
      " 3132 3133 3134 3135 3136 3137 3138 3139 3140 3141 3142 3143 3144 3145\n",
      " 3146 3147 3148 3149 3150 3151 3153 3154 3155 3156 3157 3158 3159 3160\n",
      " 3161 3162 3163 3164 3165 3166 3167 3168 3169 3170 3171 3172 3173 3174\n",
      " 3175 3177 3178 3179 3180 3181 3182 3183 3184 3185 3186 3187 3188 3189\n",
      " 3190 3191 3192 3193 3194 3195 3196 3198 3199 3201 3202 3203 3204 3205\n",
      " 3207 3208 3209 3211 3212 3213 3214 3215 3216 3217 3218 3220 3221 3222\n",
      " 3223 3224 3225 3226 3227 3235 3236 3237 3238 3239 3240 3241 3243 3244\n",
      " 3245 3246]\n",
      "[   0    1    2 ... 5166 5167 5168] [3123 3152 3176 3197 3200 3206 3210 3219 3228 3229 3230 3231 3232 3233\n",
      " 3234 3242 3247 3248 3249 3250 3251 3252 3253 3254 3255 3256 3257 3258\n",
      " 3259 3260 3261 3262 3263 3264 3265 3266 3267 3268 3269 3270 3271 3272\n",
      " 3273 3274 3275 3276 3277 3278 3279 3280 3281 3282 3283 3284 3285 3286\n",
      " 3287 3288 3289 3290 3291 3292 3293 3294 3295 3296 3297 3298 3299 3300\n",
      " 3301 3302 3303 3304 3305 3306 3307 3308 3309 3310 3311 3312 3313 3314\n",
      " 3315 3316 3317 3318 3319 3320 3321 3322 3323 3324 3325 3326 3327 3328\n",
      " 3329 3330 3331 3332 3333 3334 3335 3336 3337 3338 3339 3340 3341 3342\n",
      " 3343 3344 3345 3346 3347 3348 3349 3350 3351 3352 3353 3354 3355 3356\n",
      " 3357 3358 3359 3360 3361 3362 3363 3364 3365 3366 3367 3368 3369 3370\n",
      " 3371 3372 3373 3374 3375 3376 3377 3378 3379 3380 3381 3382 3383 3384\n",
      " 3385 3386 3387 3388 3389 3390 3391 3392 3393 3394 3395 3396 3397 3398\n",
      " 3399 3400 3401 3402 3403 3404 3405 3406 3407 3408 3409 3410 3411 3412\n",
      " 3413 3414 3415 3416 3417 3418 3419 3420 3421 3422 3423 3424 3425 3426\n",
      " 3427 3428 3429 3430 3431 3432 3433 3434 3435 3436 3437 3438 3439 3440\n",
      " 3441 3442 3443 3444 3445 3446 3447 3448 3449 3450 3451 3452 3453 3454\n",
      " 3455 3456 3457 3458 3459 3460 3461 3462 3463 3464 3465 3466 3467 3468\n",
      " 3469 3470 3471 3472 3473 3474 3475 3476 3477 3478 3479 3480 3481 3482\n",
      " 3483 3484 3485 3486 3487 3488 3489 3490 3491 3492 3493 3494 3495 3496\n",
      " 3497 3498 3499 3500 3501 3502 3503 3504 3505 3506 3507 3508 3509 3510\n",
      " 3511 3512 3513 3514 3515 3516 3517 3518 3519 3520 3521 3522 3523 3524\n",
      " 3525 3526 3527 3528 3529 3530 3531 3532 3533 3534 3535 3536 3537 3538\n",
      " 3539 3540 3541 3542 3543 3544 3545 3546 3547 3548 3549 3550 3551 3552\n",
      " 3553 3554 3555 3556 3557 3558 3559 3560 3561 3562 3563 3564 3565 3566\n",
      " 3567 3568 3569 3570 3571 3572 3573 3574 3575 3576 3577 3578 3579 3580\n",
      " 3581 3582 3583 3584 3585 3586 3587 3588 3589 3590 3591 3592 3593 3594\n",
      " 3595 3596 3597 3598 3599 3600 3601 3602 3603 3604 3605 3606 3607 3608\n",
      " 3609 3610 3611 3612 3613 3614 3615 3616 3617 3618 3619 3620 3621 3622\n",
      " 3623 3624 3625 3626 3627 3628 3629 3630 3631 3632 3633 3634 3635 3636\n",
      " 3637 3638 3639 3640 3641 3642 3643 3644 3645 3646 3647 3648 3649 3650\n",
      " 3651 3652 3653 3654 3655 3656 3657 3658 3659 3660 3661 3662 3663 3664\n",
      " 3665 3666 3667 3668 3669 3670 3671 3672 3673 3674 3675 3676 3677 3678\n",
      " 3679 3680 3681 3682 3683 3684 3685 3686 3687 3688 3689 3690 3691 3692\n",
      " 3693 3694 3695 3696 3697 3698 3699 3700 3701 3702 3703 3704 3705 3706\n",
      " 3707 3708 3709 3710 3711 3712 3713 3714 3715 3716 3717 3718 3719 3720\n",
      " 3721 3722 3723 3724 3725 3726 3727 3728 3729 3730 3731 3732 3733 3734\n",
      " 3735 3736 3737 3738 3739 3740 3741 3742 3743 3744 3745 3746 3747 3748\n",
      " 3749 3750 3751 3752 3753 3754 3755 3756 3757 3758 3759 3760 3761 3762\n",
      " 3763 3764 3765 3766 3767 3768 3769 3770 3771 3772 3773 3774 3775 3776\n",
      " 3777 3778 3779 3780 3781 3782 3783 3784 3785 3786 3787 3788 3789 3791\n",
      " 3792 3793 3794 3795 3796 3797 3798 3801 3802 3803 3804 3805 3806 3807\n",
      " 3808 3809 3810 3811 3814 3815 3816 3817 3818 3819 3822 3823 3824 3826\n",
      " 3827 3829 3830 3831 3832 3833 3834 3835 3837 3839 3840 3842 3843 3844\n",
      " 3845 3846 3847 3848 3849 3850 3851 3853 3854 3855 3857 3858 3859 3861\n",
      " 3862 3863 3864 3865 3866 3867 3868 3869 3870 3871 3872 3873 3875 3876\n",
      " 3877 3878 3880 3881 3882 3883 3884 3885 3886 3887 3889 3890 3891 3892\n",
      " 3894 3895]\n"
     ]
    },
    {
     "name": "stdout",
     "output_type": "stream",
     "text": [
      "[   0    1    2 ... 5166 5167 5168] [3790 3799 3800 3812 3813 3820 3821 3825 3828 3836 3838 3841 3852 3856\n",
      " 3860 3874 3879 3888 3893 3896 3897 3898 3899 3900 3901 3902 3903 3904\n",
      " 3905 3906 3907 3908 3909 3910 3911 3912 3913 3914 3915 3916 3917 3918\n",
      " 3919 3920 3921 3922 3923 3924 3925 3926 3927 3928 3929 3930 3931 3932\n",
      " 3933 3934 3935 3936 3937 3938 3939 3940 3941 3942 3943 3944 3945 3946\n",
      " 3947 3948 3949 3950 3951 3952 3953 3954 3955 3956 3957 3958 3959 3960\n",
      " 3961 3962 3963 3964 3965 3966 3967 3968 3969 3970 3971 3972 3973 3974\n",
      " 3975 3976 3977 3978 3979 3980 3981 3982 3983 3984 3985 3986 3987 3988\n",
      " 3989 3990 3991 3992 3993 3994 3995 3996 3997 3998 3999 4000 4001 4002\n",
      " 4003 4004 4005 4006 4007 4008 4009 4010 4011 4012 4013 4014 4015 4016\n",
      " 4017 4018 4019 4020 4021 4022 4023 4024 4025 4026 4027 4028 4029 4030\n",
      " 4031 4032 4033 4034 4035 4036 4037 4038 4039 4040 4041 4042 4043 4044\n",
      " 4045 4046 4047 4048 4049 4050 4051 4052 4053 4054 4055 4056 4057 4058\n",
      " 4059 4060 4061 4062 4063 4064 4065 4066 4067 4068 4069 4070 4071 4072\n",
      " 4073 4074 4075 4076 4077 4078 4079 4080 4081 4082 4083 4084 4085 4086\n",
      " 4087 4088 4089 4090 4091 4092 4093 4094 4095 4096 4097 4098 4099 4100\n",
      " 4101 4102 4103 4104 4105 4106 4107 4108 4109 4110 4111 4112 4113 4114\n",
      " 4115 4116 4117 4118 4119 4120 4121 4122 4123 4124 4125 4126 4127 4128\n",
      " 4129 4130 4131 4132 4133 4134 4135 4136 4137 4138 4139 4140 4141 4142\n",
      " 4143 4144 4145 4146 4147 4148 4149 4150 4151 4152 4153 4154 4155 4156\n",
      " 4157 4158 4159 4160 4161 4162 4163 4164 4165 4166 4167 4168 4169 4170\n",
      " 4171 4172 4173 4174 4175 4176 4177 4178 4179 4180 4181 4182 4183 4184\n",
      " 4185 4186 4187 4188 4189 4190 4191 4192 4193 4194 4195 4196 4197 4198\n",
      " 4199 4200 4201 4202 4203 4204 4205 4206 4207 4208 4209 4210 4211 4212\n",
      " 4213 4214 4215 4216 4217 4218 4219 4220 4221 4222 4223 4224 4225 4226\n",
      " 4227 4228 4229 4230 4231 4232 4233 4234 4235 4236 4237 4238 4239 4240\n",
      " 4241 4242 4243 4244 4245 4246 4247 4248 4249 4250 4251 4252 4253 4254\n",
      " 4255 4256 4257 4258 4259 4260 4261 4262 4263 4264 4265 4266 4267 4268\n",
      " 4269 4270 4271 4272 4273 4274 4275 4276 4277 4278 4279 4280 4281 4282\n",
      " 4283 4284 4285 4286 4287 4288 4289 4290 4291 4292 4293 4294 4295 4296\n",
      " 4297 4298 4299 4300 4301 4302 4303 4304 4305 4306 4307 4308 4309 4310\n",
      " 4311 4312 4313 4314 4315 4316 4317 4318 4319 4320 4321 4322 4323 4324\n",
      " 4325 4326 4327 4328 4329 4330 4331 4332 4333 4334 4335 4336 4337 4338\n",
      " 4339 4340 4341 4342 4343 4344 4345 4346 4347 4348 4349 4350 4351 4352\n",
      " 4353 4354 4355 4356 4357 4358 4359 4360 4361 4362 4363 4364 4365 4366\n",
      " 4367 4368 4369 4370 4371 4372 4373 4374 4375 4376 4377 4378 4379 4380\n",
      " 4381 4382 4383 4384 4385 4386 4387 4388 4389 4390 4391 4392 4393 4394\n",
      " 4395 4396 4397 4398 4399 4400 4401 4402 4403 4404 4405 4406 4407 4408\n",
      " 4409 4410 4411 4412 4413 4414 4415 4416 4417 4418 4419 4420 4421 4422\n",
      " 4423 4424 4425 4426 4427 4428 4429 4430 4431 4432 4433 4434 4435 4436\n",
      " 4437 4438 4439 4440 4441 4442 4443 4444 4445 4446 4447 4448 4449 4450\n",
      " 4451 4452 4453 4454 4455 4456 4457 4458 4459 4460 4461 4462 4463 4464\n",
      " 4465 4466 4467 4468 4469 4470 4471 4472 4473 4474 4475 4477 4478 4479\n",
      " 4480 4481 4482 4483 4484 4486 4487 4488 4489 4490 4491 4492 4493 4494\n",
      " 4495 4496 4498 4500 4501 4502 4503 4504 4505 4506 4507 4508 4509 4511\n",
      " 4512 4513 4514 4515 4516 4518 4519 4520 4522 4523 4524 4525 4526 4527\n",
      " 4528 4529]\n",
      "[   0    1    2 ... 4527 4528 4529] [4476 4485 4497 4499 4510 4517 4521 4530 4531 4532 4533 4534 4535 4536\n",
      " 4537 4538 4539 4540 4541 4542 4543 4544 4545 4546 4547 4548 4549 4550\n",
      " 4551 4552 4553 4554 4555 4556 4557 4558 4559 4560 4561 4562 4563 4564\n",
      " 4565 4566 4567 4568 4569 4570 4571 4572 4573 4574 4575 4576 4577 4578\n",
      " 4579 4580 4581 4582 4583 4584 4585 4586 4587 4588 4589 4590 4591 4592\n",
      " 4593 4594 4595 4596 4597 4598 4599 4600 4601 4602 4603 4604 4605 4606\n",
      " 4607 4608 4609 4610 4611 4612 4613 4614 4615 4616 4617 4618 4619 4620\n",
      " 4621 4622 4623 4624 4625 4626 4627 4628 4629 4630 4631 4632 4633 4634\n",
      " 4635 4636 4637 4638 4639 4640 4641 4642 4643 4644 4645 4646 4647 4648\n",
      " 4649 4650 4651 4652 4653 4654 4655 4656 4657 4658 4659 4660 4661 4662\n",
      " 4663 4664 4665 4666 4667 4668 4669 4670 4671 4672 4673 4674 4675 4676\n",
      " 4677 4678 4679 4680 4681 4682 4683 4684 4685 4686 4687 4688 4689 4690\n",
      " 4691 4692 4693 4694 4695 4696 4697 4698 4699 4700 4701 4702 4703 4704\n",
      " 4705 4706 4707 4708 4709 4710 4711 4712 4713 4714 4715 4716 4717 4718\n",
      " 4719 4720 4721 4722 4723 4724 4725 4726 4727 4728 4729 4730 4731 4732\n",
      " 4733 4734 4735 4736 4737 4738 4739 4740 4741 4742 4743 4744 4745 4746\n",
      " 4747 4748 4749 4750 4751 4752 4753 4754 4755 4756 4757 4758 4759 4760\n",
      " 4761 4762 4763 4764 4765 4766 4767 4768 4769 4770 4771 4772 4773 4774\n",
      " 4775 4776 4777 4778 4779 4780 4781 4782 4783 4784 4785 4786 4787 4788\n",
      " 4789 4790 4791 4792 4793 4794 4795 4796 4797 4798 4799 4800 4801 4802\n",
      " 4803 4804 4805 4806 4807 4808 4809 4810 4811 4812 4813 4814 4815 4816\n",
      " 4817 4818 4819 4820 4821 4822 4823 4824 4825 4826 4827 4828 4829 4830\n",
      " 4831 4832 4833 4834 4835 4836 4837 4838 4839 4840 4841 4842 4843 4844\n",
      " 4845 4846 4847 4848 4849 4850 4851 4852 4853 4854 4855 4856 4857 4858\n",
      " 4859 4860 4861 4862 4863 4864 4865 4866 4867 4868 4869 4870 4871 4872\n",
      " 4873 4874 4875 4876 4877 4878 4879 4880 4881 4882 4883 4884 4885 4886\n",
      " 4887 4888 4889 4890 4891 4892 4893 4894 4895 4896 4897 4898 4899 4900\n",
      " 4901 4902 4903 4904 4905 4906 4907 4908 4909 4910 4911 4912 4913 4914\n",
      " 4915 4916 4917 4918 4919 4920 4921 4922 4923 4924 4925 4926 4927 4928\n",
      " 4929 4930 4931 4932 4933 4934 4935 4936 4937 4938 4939 4940 4941 4942\n",
      " 4943 4944 4945 4946 4947 4948 4949 4950 4951 4952 4953 4954 4955 4956\n",
      " 4957 4958 4959 4960 4961 4962 4963 4964 4965 4966 4967 4968 4969 4970\n",
      " 4971 4972 4973 4974 4975 4976 4977 4978 4979 4980 4981 4982 4983 4984\n",
      " 4985 4986 4987 4988 4989 4990 4991 4992 4993 4994 4995 4996 4997 4998\n",
      " 4999 5000 5001 5002 5003 5004 5005 5006 5007 5008 5009 5010 5011 5012\n",
      " 5013 5014 5015 5016 5017 5018 5019 5020 5021 5022 5023 5024 5025 5026\n",
      " 5027 5028 5029 5030 5031 5032 5033 5034 5035 5036 5037 5038 5039 5040\n",
      " 5041 5042 5043 5044 5045 5046 5047 5048 5049 5050 5051 5052 5053 5054\n",
      " 5055 5056 5057 5058 5059 5060 5061 5062 5063 5064 5065 5066 5067 5068\n",
      " 5069 5070 5071 5072 5073 5074 5075 5076 5077 5078 5079 5080 5081 5082\n",
      " 5083 5084 5085 5086 5087 5088 5089 5090 5091 5092 5093 5094 5095 5096\n",
      " 5097 5098 5099 5100 5101 5102 5103 5104 5105 5106 5107 5108 5109 5110\n",
      " 5111 5112 5113 5114 5115 5116 5117 5118 5119 5120 5121 5122 5123 5124\n",
      " 5125 5126 5127 5128 5129 5130 5131 5132 5133 5134 5135 5136 5137 5138\n",
      " 5139 5140 5141 5142 5143 5144 5145 5146 5147 5148 5149 5150 5151 5152\n",
      " 5153 5154 5155 5156 5157 5158 5159 5160 5161 5162 5163 5164 5165 5166\n",
      " 5167 5168]\n"
     ]
    }
   ],
   "source": [
    "mnb_pre = []\n",
    "gnb_pre = []\n",
    "bnb_pre = []\n",
    "mnb_acc = []\n",
    "gnb_acc = []\n",
    "bnb_acc = []\n",
    "\n",
    "\n",
    "for train_index,test_index in sss.split(X,y):\n",
    "    print(train_index,test_index)\n",
    "    X_trai,X_tes = X[train_index],X[test_index]\n",
    "    y_trai,y_tes = y[train_index],y[test_index]\n",
    "    \n",
    "    acc1,con1,pre1,f1 = model_scoring(mnb,X_trai,X_tes,y_trai,y_tes)\n",
    "    acc2,con2,pre2,f1 = model_scoring(gnb,X_trai,X_tes,y_trai,y_tes)\n",
    "    acc3,con3,pre3,f1 = model_scoring(bnb,X_trai,X_tes,y_trai,y_tes)\n",
    "    \n",
    "    mnb_pre.append(pre1)\n",
    "    gnb_pre.append(pre2)\n",
    "    bnb_pre.append(pre3)\n",
    "    \n",
    "    mnb_acc.append(acc1)\n",
    "    gnb_acc.append(acc2)\n",
    "    bnb_acc.append(acc3)"
   ]
  },
  {
   "cell_type": "code",
   "execution_count": 57,
   "id": "785bac90",
   "metadata": {},
   "outputs": [
    {
     "name": "stdout",
     "output_type": "stream",
     "text": [
      "[1.0, 1.0, 1.0, 1.0, 1.0, 1.0, 1.0, 1.0]\n",
      "[0.48344370860927155, 0.47651006711409394, 0.44029850746268656, 0.4788732394366197, 0.4791666666666667, 0.4863013698630137, 0.5074626865671642, 0.4605263157894737]\n",
      "[0.961038961038961, 0.9846153846153847, 0.9375, 0.9285714285714286, 0.9571428571428572, 0.9696969696969697, 0.9682539682539683, 1.0]\n"
     ]
    }
   ],
   "source": [
    "print(mnb_pre)\n",
    "print(gnb_pre)\n",
    "print(bnb_pre)"
   ]
  },
  {
   "cell_type": "code",
   "execution_count": 58,
   "id": "1861e498",
   "metadata": {},
   "outputs": [
    {
     "name": "stdout",
     "output_type": "stream",
     "text": [
      "[0.9768160741885626, 0.9690402476780186, 0.9535603715170279, 0.9643962848297214, 0.9659442724458205, 0.9628482972136223, 0.9566563467492261, 0.9643962848297214]\n",
      "[0.865533230293663, 0.8637770897832817, 0.8498452012383901, 0.8653250773993808, 0.8637770897832817, 0.8668730650154799, 0.8761609907120743, 0.8544891640866873]\n",
      "[0.9829984544049459, 0.9721362229102167, 0.9613003095975232, 0.9674922600619195, 0.9721362229102167, 0.9690402476780186, 0.9643962848297214, 0.9736842105263158]\n"
     ]
    }
   ],
   "source": [
    "print(mnb_acc)\n",
    "print(gnb_acc)\n",
    "print(bnb_acc)"
   ]
  },
  {
   "cell_type": "markdown",
   "id": "976277c3",
   "metadata": {},
   "source": [
    "# Now we are Going to Check some other Model Also"
   ]
  },
  {
   "cell_type": "code",
   "execution_count": 59,
   "id": "be0e9b0c",
   "metadata": {},
   "outputs": [],
   "source": [
    "from sklearn.linear_model import LogisticRegression\n",
    "from sklearn.svm import SVC\n",
    "from sklearn.naive_bayes import MultinomialNB\n",
    "from sklearn.tree import DecisionTreeClassifier\n",
    "from sklearn.neighbors import KNeighborsClassifier\n",
    "from sklearn.ensemble import RandomForestClassifier,ExtraTreesClassifier,AdaBoostClassifier,BaggingClassifier,GradientBoostingClassifier\n",
    "from xgboost import XGBClassifier"
   ]
  },
  {
   "cell_type": "code",
   "execution_count": 60,
   "id": "5cb60e0e",
   "metadata": {},
   "outputs": [],
   "source": [
    "lg = LogisticRegression(penalty='l1',solver='liblinear')\n",
    "sv = SVC(kernel='sigmoid',gamma=1.0)\n",
    "mnb = MultinomialNB()\n",
    "dtc = DecisionTreeClassifier(max_depth=5)\n",
    "knn = KNeighborsClassifier()\n",
    "rfc = RandomForestClassifier(n_estimators=50,random_state=2)\n",
    "etc = ExtraTreesClassifier(random_state=2,n_estimators=50)\n",
    "abc = AdaBoostClassifier(n_estimators=50,random_state=2)\n",
    "bg = BaggingClassifier(n_estimators=50,random_state=2)\n",
    "gbc = GradientBoostingClassifier(n_estimators=50,random_state=2)\n",
    "xgb = XGBClassifier(n_estimators=50,random_state=2)"
   ]
  },
  {
   "cell_type": "code",
   "execution_count": 61,
   "id": "4d972513",
   "metadata": {},
   "outputs": [
    {
     "data": {
      "text/plain": [
       "{'LR': LogisticRegression(penalty='l1', solver='liblinear'),\n",
       " 'SVM': SVC(gamma=1.0, kernel='sigmoid'),\n",
       " 'MNB': MultinomialNB(),\n",
       " 'DTC': DecisionTreeClassifier(max_depth=5),\n",
       " 'KNN': KNeighborsClassifier(),\n",
       " 'RFC': RandomForestClassifier(n_estimators=50, random_state=2),\n",
       " 'ETC': ExtraTreesClassifier(n_estimators=50, random_state=2),\n",
       " 'ABC': AdaBoostClassifier(random_state=2),\n",
       " 'BG': BaggingClassifier(n_estimators=50, random_state=2),\n",
       " 'GBC': GradientBoostingClassifier(n_estimators=50, random_state=2),\n",
       " 'XGB': XGBClassifier(base_score=None, booster=None, colsample_bylevel=None,\n",
       "               colsample_bynode=None, colsample_bytree=None,\n",
       "               enable_categorical=False, gamma=None, gpu_id=None,\n",
       "               importance_type=None, interaction_constraints=None,\n",
       "               learning_rate=None, max_delta_step=None, max_depth=None,\n",
       "               min_child_weight=None, missing=nan, monotone_constraints=None,\n",
       "               n_estimators=50, n_jobs=None, num_parallel_tree=None,\n",
       "               predictor=None, random_state=2, reg_alpha=None, reg_lambda=None,\n",
       "               scale_pos_weight=None, subsample=None, tree_method=None,\n",
       "               validate_parameters=None, verbosity=None)}"
      ]
     },
     "execution_count": 61,
     "metadata": {},
     "output_type": "execute_result"
    }
   ],
   "source": [
    "clfs= {\n",
    "    'LR':lg,\n",
    "    'SVM':sv,\n",
    "    'MNB':mnb,\n",
    "    'DTC':dtc,\n",
    "    'KNN':knn,\n",
    "    'RFC':rfc,\n",
    "    'ETC':etc,\n",
    "    'ABC':abc,\n",
    "    'BG':bg,\n",
    "    'GBC':gbc,\n",
    "    'XGB':xgb\n",
    "}\n",
    "clfs"
   ]
  },
  {
   "cell_type": "code",
   "execution_count": 62,
   "id": "5217cac1",
   "metadata": {},
   "outputs": [],
   "source": [
    "def score_prediction(model,X_train,X_test,y_train,y_test):\n",
    "    model.fit(X_train,y_train)\n",
    "    pr = model.predict(X_test)\n",
    "    acc_score = accuracy_score(y_test,pr)\n",
    "    pre_score = precision_score(y_test,pr)\n",
    "    \n",
    "    return acc_score,pre_score"
   ]
  },
  {
   "cell_type": "code",
   "execution_count": 63,
   "id": "1a940671",
   "metadata": {},
   "outputs": [
    {
     "data": {
      "text/plain": [
       "(0.9555125725338491, 1.0)"
      ]
     },
     "execution_count": 63,
     "metadata": {},
     "output_type": "execute_result"
    }
   ],
   "source": [
    "score_prediction(mnb,X_train,X_test,y_train,y_test)"
   ]
  },
  {
   "cell_type": "code",
   "execution_count": null,
   "id": "ba6b9c0f",
   "metadata": {},
   "outputs": [],
   "source": [
    "acc_score = []\n",
    "pre_score = []\n",
    "\n",
    "for name,clf in clfs.items():\n",
    "    current_score,current_precision = score_prediction(clf,X_train,X_test,y_train,y_test)\n",
    "   \n",
    "    acc_score.append(current_score)\n",
    "    pre_score.append(current_precision)"
   ]
  },
  {
   "cell_type": "code",
   "execution_count": null,
   "id": "7659c103",
   "metadata": {},
   "outputs": [],
   "source": [
    "acc_score"
   ]
  }
 ],
 "metadata": {
  "celltoolbar": "Raw Cell Format",
  "kernelspec": {
   "display_name": "Python 3",
   "language": "python",
   "name": "python3"
  },
  "language_info": {
   "codemirror_mode": {
    "name": "ipython",
    "version": 3
   },
   "file_extension": ".py",
   "mimetype": "text/x-python",
   "name": "python",
   "nbconvert_exporter": "python",
   "pygments_lexer": "ipython3",
   "version": "3.8.8"
  }
 },
 "nbformat": 4,
 "nbformat_minor": 5
}
